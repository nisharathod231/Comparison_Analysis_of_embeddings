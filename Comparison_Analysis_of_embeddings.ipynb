{
  "cells": [
    {
      "cell_type": "markdown",
      "metadata": {
        "id": "view-in-github",
        "colab_type": "text"
      },
      "source": [
        "<a href=\"https://colab.research.google.com/github/nisharathod231/Using-word2vec-developed-by-Google-to-analyze-the-quality-of-the-embedding/blob/main/Comparison_Analysis_of_embeddings.ipynb\" target=\"_parent\"><img src=\"https://colab.research.google.com/assets/colab-badge.svg\" alt=\"Open In Colab\"/></a>"
      ]
    },
    {
      "cell_type": "markdown",
      "metadata": {
        "id": "ao135bI9-Ol7"
      },
      "source": [
        "##  Using word2vec developed by Google is to analyze the quality of the embedding\n",
        "**DS: 207 Introduction to Natural Language Processing**\n",
        "\n"
      ]
    },
    {
      "cell_type": "markdown",
      "metadata": {
        "id": "CEUxphOV-Z3l"
      },
      "source": [
        "## Part I Text Classification"
      ]
    },
    {
      "cell_type": "markdown",
      "metadata": {
        "id": "9f1yKrJtFOPs"
      },
      "source": [
        "**Dataset**:\n",
        "The dataset consists of sentences with two different kinds of sentiments- `positive`, and `negative` sentiments. Following are a set of examples,\n",
        "\n",
        "* **`positive`**: *I really like your new haircut!*\n",
        "* **`negative`**: *Your new haircut is awful!*\n",
        "\n",
        "The Dataset has a training set (`train_data.csv`), a validation set (`val_data.csv`) and a blind test set (`test_data.csv`- not provided). The notebook uses a `test_data.csv` file, but it is just a duplicate of `val_data.csv`, and the blind `test_data.csv` will replace it for testing.\n",
        "\n",
        "**Important**: Fix seed as 42 whenever performing any randomized operations, e.g., initializing ML models.\n"
      ]
    },
    {
      "cell_type": "markdown",
      "metadata": {
        "id": "IHepxF62-g8R"
      },
      "source": [
        "### Download the dataset"
      ]
    },
    {
      "cell_type": "code",
      "execution_count": null,
      "metadata": {
        "colab": {
          "base_uri": "https://localhost:8080/"
        },
        "id": "gQbwiU59hL1f",
        "outputId": "96a3eff7-1a9b-4ad1-b9e5-a7f32bbf0aba"
      },
      "outputs": [
        {
          "output_type": "stream",
          "name": "stdout",
          "text": [
            "--2024-02-05 11:56:25--  https://docs.google.com/spreadsheets/d/176-KrOP8nhLpoW91UnrOY9oq_-I0XYNKS1zmqIErFsA/gviz/tq?tqx=out:csv&sheet=train_data.csv\n",
            "Resolving docs.google.com (docs.google.com)... 74.125.130.138, 74.125.130.139, 74.125.130.100, ...\n",
            "Connecting to docs.google.com (docs.google.com)|74.125.130.138|:443... connected.\n",
            "HTTP request sent, awaiting response... 200 OK\n",
            "Length: unspecified [text/csv]\n",
            "Saving to: ‘train_data.csv’\n",
            "\n",
            "train_data.csv          [         <=>        ]  15.12M  8.76MB/s    in 1.7s    \n",
            "\n",
            "2024-02-05 11:56:28 (8.76 MB/s) - ‘train_data.csv’ saved [15851033]\n",
            "\n",
            "--2024-02-05 11:56:28--  https://docs.google.com/spreadsheets/d/1YxjoAbatow3F5lbPEODToa8-YWvJoTY0aABS9zaXk-c/gviz/tq?tqx=out:csv&sheet=val_data.csv\n",
            "Resolving docs.google.com (docs.google.com)... 74.125.130.138, 74.125.130.139, 74.125.130.100, ...\n",
            "Connecting to docs.google.com (docs.google.com)|74.125.130.138|:443... connected.\n",
            "HTTP request sent, awaiting response... 200 OK\n",
            "Length: unspecified [text/csv]\n",
            "Saving to: ‘val_data.csv’\n",
            "\n",
            "val_data.csv            [      <=>           ]   5.14M  4.21MB/s    in 1.2s    \n",
            "\n",
            "2024-02-05 11:56:30 (4.21 MB/s) - ‘val_data.csv’ saved [5387545]\n",
            "\n",
            "--2024-02-05 11:56:30--  https://docs.google.com/spreadsheets/d/1YxjoAbatow3F5lbPEODToa8-YWvJoTY0aABS9zaXk-c/gviz/tq?tqx=out:csv&sheet=val_data.csv\n",
            "Resolving docs.google.com (docs.google.com)... 74.125.130.138, 74.125.130.139, 74.125.130.100, ...\n",
            "Connecting to docs.google.com (docs.google.com)|74.125.130.138|:443... connected.\n",
            "HTTP request sent, awaiting response... 200 OK\n",
            "Length: unspecified [text/csv]\n",
            "Saving to: ‘test_data.csv’\n",
            "\n",
            "test_data.csv           [      <=>           ]   5.14M  4.33MB/s    in 1.2s    \n",
            "\n",
            "2024-02-05 11:56:32 (4.33 MB/s) - ‘test_data.csv’ saved [5387545]\n",
            "\n"
          ]
        }
      ],
      "source": [
        ",# download train data\n",
        "!wget -O train_data.csv \"https://docs.google.com/spreadsheets/d/176-KrOP8nhLpoW91UnrOY9oq_-I0XYNKS1zmqIErFsA/gviz/tq?tqx=out:csv&sheet=train_data.csv\"\n",
        "\n",
        "# download validation data\n",
        "!wget -O val_data.csv \"https://docs.google.com/spreadsheets/d/1YxjoAbatow3F5lbPEODToa8-YWvJoTY0aABS9zaXk-c/gviz/tq?tqx=out:csv&sheet=val_data.csv\"\n",
        "\n",
        "# download test data\n",
        "!wget -O test_data.csv \"https://docs.google.com/spreadsheets/d/1YxjoAbatow3F5lbPEODToa8-YWvJoTY0aABS9zaXk-c/gviz/tq?tqx=out:csv&sheet=val_data.csv\""
      ]
    },
    {
      "cell_type": "code",
      "execution_count": null,
      "metadata": {
        "colab": {
          "base_uri": "https://localhost:8080/",
          "height": 547
        },
        "id": "aSFZVfsahjYe",
        "outputId": "9ab06c7f-c0cc-4db8-813b-a4c2d2681445"
      },
      "outputs": [
        {
          "output_type": "execute_result",
          "data": {
            "text/plain": [
              "                                              review sentiment\n",
              "0  I've watched this documentary twice - and alth...  positive\n",
              "1  This is probably the worst movie I've seen in ...  negative\n",
              "2  Superb story of a dedicated young teacher who ...  positive\n",
              "3  <br /><br />Spoilers<br /><br />I'm going to b...  negative\n",
              "4  What can be said, really... \"The Tenant\" is a ...  positive"
            ],
            "text/html": [
              "\n",
              "  <div id=\"df-f981d613-8948-4774-b403-67e9dd047f12\" class=\"colab-df-container\">\n",
              "    <div>\n",
              "<style scoped>\n",
              "    .dataframe tbody tr th:only-of-type {\n",
              "        vertical-align: middle;\n",
              "    }\n",
              "\n",
              "    .dataframe tbody tr th {\n",
              "        vertical-align: top;\n",
              "    }\n",
              "\n",
              "    .dataframe thead th {\n",
              "        text-align: right;\n",
              "    }\n",
              "</style>\n",
              "<table border=\"1\" class=\"dataframe\">\n",
              "  <thead>\n",
              "    <tr style=\"text-align: right;\">\n",
              "      <th></th>\n",
              "      <th>review</th>\n",
              "      <th>sentiment</th>\n",
              "    </tr>\n",
              "  </thead>\n",
              "  <tbody>\n",
              "    <tr>\n",
              "      <th>0</th>\n",
              "      <td>I've watched this documentary twice - and alth...</td>\n",
              "      <td>positive</td>\n",
              "    </tr>\n",
              "    <tr>\n",
              "      <th>1</th>\n",
              "      <td>This is probably the worst movie I've seen in ...</td>\n",
              "      <td>negative</td>\n",
              "    </tr>\n",
              "    <tr>\n",
              "      <th>2</th>\n",
              "      <td>Superb story of a dedicated young teacher who ...</td>\n",
              "      <td>positive</td>\n",
              "    </tr>\n",
              "    <tr>\n",
              "      <th>3</th>\n",
              "      <td>&lt;br /&gt;&lt;br /&gt;Spoilers&lt;br /&gt;&lt;br /&gt;I'm going to b...</td>\n",
              "      <td>negative</td>\n",
              "    </tr>\n",
              "    <tr>\n",
              "      <th>4</th>\n",
              "      <td>What can be said, really... \"The Tenant\" is a ...</td>\n",
              "      <td>positive</td>\n",
              "    </tr>\n",
              "  </tbody>\n",
              "</table>\n",
              "</div>\n",
              "    <div class=\"colab-df-buttons\">\n",
              "\n",
              "  <div class=\"colab-df-container\">\n",
              "    <button class=\"colab-df-convert\" onclick=\"convertToInteractive('df-f981d613-8948-4774-b403-67e9dd047f12')\"\n",
              "            title=\"Convert this dataframe to an interactive table.\"\n",
              "            style=\"display:none;\">\n",
              "\n",
              "  <svg xmlns=\"http://www.w3.org/2000/svg\" height=\"24px\" viewBox=\"0 -960 960 960\">\n",
              "    <path d=\"M120-120v-720h720v720H120Zm60-500h600v-160H180v160Zm220 220h160v-160H400v160Zm0 220h160v-160H400v160ZM180-400h160v-160H180v160Zm440 0h160v-160H620v160ZM180-180h160v-160H180v160Zm440 0h160v-160H620v160Z\"/>\n",
              "  </svg>\n",
              "    </button>\n",
              "\n",
              "  <style>\n",
              "    .colab-df-container {\n",
              "      display:flex;\n",
              "      gap: 12px;\n",
              "    }\n",
              "\n",
              "    .colab-df-convert {\n",
              "      background-color: #E8F0FE;\n",
              "      border: none;\n",
              "      border-radius: 50%;\n",
              "      cursor: pointer;\n",
              "      display: none;\n",
              "      fill: #1967D2;\n",
              "      height: 32px;\n",
              "      padding: 0 0 0 0;\n",
              "      width: 32px;\n",
              "    }\n",
              "\n",
              "    .colab-df-convert:hover {\n",
              "      background-color: #E2EBFA;\n",
              "      box-shadow: 0px 1px 2px rgba(60, 64, 67, 0.3), 0px 1px 3px 1px rgba(60, 64, 67, 0.15);\n",
              "      fill: #174EA6;\n",
              "    }\n",
              "\n",
              "    .colab-df-buttons div {\n",
              "      margin-bottom: 4px;\n",
              "    }\n",
              "\n",
              "    [theme=dark] .colab-df-convert {\n",
              "      background-color: #3B4455;\n",
              "      fill: #D2E3FC;\n",
              "    }\n",
              "\n",
              "    [theme=dark] .colab-df-convert:hover {\n",
              "      background-color: #434B5C;\n",
              "      box-shadow: 0px 1px 3px 1px rgba(0, 0, 0, 0.15);\n",
              "      filter: drop-shadow(0px 1px 2px rgba(0, 0, 0, 0.3));\n",
              "      fill: #FFFFFF;\n",
              "    }\n",
              "  </style>\n",
              "\n",
              "    <script>\n",
              "      const buttonEl =\n",
              "        document.querySelector('#df-f981d613-8948-4774-b403-67e9dd047f12 button.colab-df-convert');\n",
              "      buttonEl.style.display =\n",
              "        google.colab.kernel.accessAllowed ? 'block' : 'none';\n",
              "\n",
              "      async function convertToInteractive(key) {\n",
              "        const element = document.querySelector('#df-f981d613-8948-4774-b403-67e9dd047f12');\n",
              "        const dataTable =\n",
              "          await google.colab.kernel.invokeFunction('convertToInteractive',\n",
              "                                                    [key], {});\n",
              "        if (!dataTable) return;\n",
              "\n",
              "        const docLinkHtml = 'Like what you see? Visit the ' +\n",
              "          '<a target=\"_blank\" href=https://colab.research.google.com/notebooks/data_table.ipynb>data table notebook</a>'\n",
              "          + ' to learn more about interactive tables.';\n",
              "        element.innerHTML = '';\n",
              "        dataTable['output_type'] = 'display_data';\n",
              "        await google.colab.output.renderOutput(dataTable, element);\n",
              "        const docLink = document.createElement('div');\n",
              "        docLink.innerHTML = docLinkHtml;\n",
              "        element.appendChild(docLink);\n",
              "      }\n",
              "    </script>\n",
              "  </div>\n",
              "\n",
              "\n",
              "<div id=\"df-e27926d1-d8ef-4c9d-9a72-aa635a14e15f\">\n",
              "  <button class=\"colab-df-quickchart\" onclick=\"quickchart('df-e27926d1-d8ef-4c9d-9a72-aa635a14e15f')\"\n",
              "            title=\"Suggest charts\"\n",
              "            style=\"display:none;\">\n",
              "\n",
              "<svg xmlns=\"http://www.w3.org/2000/svg\" height=\"24px\"viewBox=\"0 0 24 24\"\n",
              "     width=\"24px\">\n",
              "    <g>\n",
              "        <path d=\"M19 3H5c-1.1 0-2 .9-2 2v14c0 1.1.9 2 2 2h14c1.1 0 2-.9 2-2V5c0-1.1-.9-2-2-2zM9 17H7v-7h2v7zm4 0h-2V7h2v10zm4 0h-2v-4h2v4z\"/>\n",
              "    </g>\n",
              "</svg>\n",
              "  </button>\n",
              "\n",
              "<style>\n",
              "  .colab-df-quickchart {\n",
              "      --bg-color: #E8F0FE;\n",
              "      --fill-color: #1967D2;\n",
              "      --hover-bg-color: #E2EBFA;\n",
              "      --hover-fill-color: #174EA6;\n",
              "      --disabled-fill-color: #AAA;\n",
              "      --disabled-bg-color: #DDD;\n",
              "  }\n",
              "\n",
              "  [theme=dark] .colab-df-quickchart {\n",
              "      --bg-color: #3B4455;\n",
              "      --fill-color: #D2E3FC;\n",
              "      --hover-bg-color: #434B5C;\n",
              "      --hover-fill-color: #FFFFFF;\n",
              "      --disabled-bg-color: #3B4455;\n",
              "      --disabled-fill-color: #666;\n",
              "  }\n",
              "\n",
              "  .colab-df-quickchart {\n",
              "    background-color: var(--bg-color);\n",
              "    border: none;\n",
              "    border-radius: 50%;\n",
              "    cursor: pointer;\n",
              "    display: none;\n",
              "    fill: var(--fill-color);\n",
              "    height: 32px;\n",
              "    padding: 0;\n",
              "    width: 32px;\n",
              "  }\n",
              "\n",
              "  .colab-df-quickchart:hover {\n",
              "    background-color: var(--hover-bg-color);\n",
              "    box-shadow: 0 1px 2px rgba(60, 64, 67, 0.3), 0 1px 3px 1px rgba(60, 64, 67, 0.15);\n",
              "    fill: var(--button-hover-fill-color);\n",
              "  }\n",
              "\n",
              "  .colab-df-quickchart-complete:disabled,\n",
              "  .colab-df-quickchart-complete:disabled:hover {\n",
              "    background-color: var(--disabled-bg-color);\n",
              "    fill: var(--disabled-fill-color);\n",
              "    box-shadow: none;\n",
              "  }\n",
              "\n",
              "  .colab-df-spinner {\n",
              "    border: 2px solid var(--fill-color);\n",
              "    border-color: transparent;\n",
              "    border-bottom-color: var(--fill-color);\n",
              "    animation:\n",
              "      spin 1s steps(1) infinite;\n",
              "  }\n",
              "\n",
              "  @keyframes spin {\n",
              "    0% {\n",
              "      border-color: transparent;\n",
              "      border-bottom-color: var(--fill-color);\n",
              "      border-left-color: var(--fill-color);\n",
              "    }\n",
              "    20% {\n",
              "      border-color: transparent;\n",
              "      border-left-color: var(--fill-color);\n",
              "      border-top-color: var(--fill-color);\n",
              "    }\n",
              "    30% {\n",
              "      border-color: transparent;\n",
              "      border-left-color: var(--fill-color);\n",
              "      border-top-color: var(--fill-color);\n",
              "      border-right-color: var(--fill-color);\n",
              "    }\n",
              "    40% {\n",
              "      border-color: transparent;\n",
              "      border-right-color: var(--fill-color);\n",
              "      border-top-color: var(--fill-color);\n",
              "    }\n",
              "    60% {\n",
              "      border-color: transparent;\n",
              "      border-right-color: var(--fill-color);\n",
              "    }\n",
              "    80% {\n",
              "      border-color: transparent;\n",
              "      border-right-color: var(--fill-color);\n",
              "      border-bottom-color: var(--fill-color);\n",
              "    }\n",
              "    90% {\n",
              "      border-color: transparent;\n",
              "      border-bottom-color: var(--fill-color);\n",
              "    }\n",
              "  }\n",
              "</style>\n",
              "\n",
              "  <script>\n",
              "    async function quickchart(key) {\n",
              "      const quickchartButtonEl =\n",
              "        document.querySelector('#' + key + ' button');\n",
              "      quickchartButtonEl.disabled = true;  // To prevent multiple clicks.\n",
              "      quickchartButtonEl.classList.add('colab-df-spinner');\n",
              "      try {\n",
              "        const charts = await google.colab.kernel.invokeFunction(\n",
              "            'suggestCharts', [key], {});\n",
              "      } catch (error) {\n",
              "        console.error('Error during call to suggestCharts:', error);\n",
              "      }\n",
              "      quickchartButtonEl.classList.remove('colab-df-spinner');\n",
              "      quickchartButtonEl.classList.add('colab-df-quickchart-complete');\n",
              "    }\n",
              "    (() => {\n",
              "      let quickchartButtonEl =\n",
              "        document.querySelector('#df-e27926d1-d8ef-4c9d-9a72-aa635a14e15f button');\n",
              "      quickchartButtonEl.style.display =\n",
              "        google.colab.kernel.accessAllowed ? 'block' : 'none';\n",
              "    })();\n",
              "  </script>\n",
              "</div>\n",
              "\n",
              "    </div>\n",
              "  </div>\n"
            ]
          },
          "metadata": {},
          "execution_count": 2
        }
      ],
      "source": [
        "#@title Read data\n",
        "import numpy as np\n",
        "import pandas as pd\n",
        "\n",
        "df = pd.read_csv('train_data.csv')\n",
        "df_val = pd.read_csv('val_data.csv')\n",
        "\n",
        "df_test = pd.read_csv('test_data.csv')\n",
        "\n",
        "df.head()"
      ]
    },
    {
      "cell_type": "code",
      "execution_count": null,
      "metadata": {
        "id": "8Q5bFnoUhlMw"
      },
      "outputs": [],
      "source": [
        "#@title Prepare training, validation and test data.\n",
        "\n",
        "X_train, y_train = df.review.values.tolist(), df.sentiment.values.tolist()\n",
        "X_val, y_val = df_val.review.values.tolist(), df_val.sentiment.values.tolist()\n",
        "X_test, y_test = df_test.review.values.tolist(), df_test.sentiment.values.tolist()\n",
        "\n",
        "labels = ['negative', 'positive']\n",
        "\n",
        "# converting the sentiment labels into labels\n",
        "# class 0 for negagtive, and class 1 for positive\n",
        "y_train = [labels.index(i) for i in y_train]\n",
        "y_val = [labels.index(i) for i in y_val]\n",
        "y_test = [labels.index(i) for i in y_test]"
      ]
    },
    {
      "cell_type": "markdown",
      "metadata": {
        "id": "Fbph_MYA-ttn"
      },
      "source": [
        "#### Approach 1: Rule based classification\n",
        "\n",
        "The rule-based classification works using a few hand-crafted rules. In sentiment classification, few words are associated with positive sentiment and few others with negative sentiment. Let's attempt to build a classifier that predicts the sentiment of the reviews based on such words."
      ]
    },
    {
      "cell_type": "markdown",
      "metadata": {
        "id": "T2Fw8vUL-xm0"
      },
      "source": [
        "Let's first write a few rules to extract important features about the input movie review. As an example, we provide a function that counts the number of `good` and `bad` words in the input.\n",
        "\n",
        "Below, you can see a sample rule-based classification system. Later, you will be building one yourself."
      ]
    },
    {
      "cell_type": "code",
      "execution_count": null,
      "metadata": {
        "id": "xOlu1Hd4huMU"
      },
      "outputs": [],
      "source": [
        "def sample_extract_features(X):\n",
        "    \"\"\"\n",
        "    Extracts features from a text input.\n",
        "\n",
        "    Args:\n",
        "        X (string): Text input.\n",
        "\n",
        "    Returns:\n",
        "        dictionary: features extracted from X.\n",
        "    \"\"\"\n",
        "\n",
        "    features = {}\n",
        "    X_split = X.split(' ')\n",
        "\n",
        "    # Count the number of \"good words\" and \"bad words\" in the text\n",
        "    good_words = ['love', 'good', 'brilliant', 'fantastic', 'amazing', 'great']\n",
        "    bad_words = ['hate', 'bad', 'horrible', 'awful', 'terrible', 'mess', 'frustating', 'frustatingly']\n",
        "\n",
        "    features['good_word_count'], features['bad_word_count'] = 0, 0\n",
        "    for x in X_split:\n",
        "        if x in good_words:\n",
        "            features['good_word_count'] = features.get('good_word_count', 0) + 1\n",
        "        if x in bad_words:\n",
        "            features['bad_word_count'] = features.get('bad_word_count', 0) + 1\n",
        "\n",
        "    # The \"bias\" value can be set to one, to allow us to assign a \"default\" score to the text\n",
        "    features['bias'] = 1\n",
        "    return features"
      ]
    },
    {
      "cell_type": "code",
      "execution_count": null,
      "metadata": {
        "id": "1N_hpoYGh7P-"
      },
      "outputs": [],
      "source": [
        "def sample_predict(X, feature_weights):\n",
        "    \"\"\"\n",
        "    Classifies the sentiment of a text input.\n",
        "\n",
        "    Args:\n",
        "        X (string): Text input.\n",
        "        feature_weights: weightage of different features.\n",
        "\n",
        "    Returns:\n",
        "        int: binary sentiment represented by 0/1.\n",
        "    \"\"\"\n",
        "\n",
        "    score = 0\n",
        "\n",
        "    # Here we just multiply the feature value\n",
        "    # with its corresponding weight and aggregate\n",
        "    for feat_name, feat_value in sample_extract_features(X).items():\n",
        "        score = score + feat_value * feature_weights[feat_name]\n",
        "\n",
        "    # the prediction is based on whether the aggregated score is above 0 or not\n",
        "    if score > 0:\n",
        "        return 1\n",
        "    else:\n",
        "        return 0"
      ]
    },
    {
      "cell_type": "code",
      "execution_count": null,
      "metadata": {
        "id": "t12WsNhUiRqp"
      },
      "outputs": [],
      "source": [
        "def get_sample_features_weights():\n",
        "  \"\"\"\n",
        "    To obtain feature weightage for different features.\n",
        "\n",
        "    Args:\n",
        "        None here.\n",
        "\n",
        "    Returns:\n",
        "        dictionary: feature names and their weightage.\n",
        "    \"\"\"\n",
        "  # Based on the selected features, you can manually assign them weights\n",
        "  feature_weights = {'good_word_count': 1.0, 'bad_word_count': -1.0, 'bias': 0.5}\n",
        "  return feature_weights"
      ]
    },
    {
      "cell_type": "code",
      "execution_count": null,
      "metadata": {
        "id": "PC2qUmjxiRs4"
      },
      "outputs": [],
      "source": [
        "#@title Computing the accuracy of the system\n",
        "\n",
        "def calculate_accuracy(Y_true, Y_pred):\n",
        "    \"\"\"\n",
        "    Calculates accuracy of predictions given the ground truth.\n",
        "\n",
        "    Args:\n",
        "        Y_true (list): Ground truth labels.\n",
        "        Y_pred (list): Predictions.\n",
        "\n",
        "    Returns:\n",
        "        float: Prediction accuracy in range [0.0-100.0].\n",
        "    \"\"\"\n",
        "    correct = 0.0\n",
        "    total = len(Y_true)\n",
        "\n",
        "    # verify if we have the same number of predictions as labels\n",
        "    assert len(Y_true) == len(Y_pred)\n",
        "\n",
        "    # count the number of correct predictions\n",
        "    for y_true, y_pred in zip(Y_true, Y_pred):\n",
        "        if y_true == y_pred:\n",
        "            correct += 1.0\n",
        "\n",
        "    if total > 0:\n",
        "        return 100. * correct / total\n",
        "\n",
        "    # return 0 if there the total number of examples are zero\n",
        "    return 0.0"
      ]
    },
    {
      "cell_type": "code",
      "execution_count": null,
      "metadata": {
        "colab": {
          "base_uri": "https://localhost:8080/"
        },
        "id": "LXoux3p8idZr",
        "outputId": "bb97859e-9131-430d-a763-d92a77e338da"
      },
      "outputs": [
        {
          "output_type": "stream",
          "name": "stdout",
          "text": [
            "60.5\n"
          ]
        }
      ],
      "source": [
        "#@title Putting the sample rule-based classifier together\n",
        "\n",
        "# get the sample weights\n",
        "sample_feature_weights = get_sample_features_weights()\n",
        "\n",
        "predictions = []\n",
        "\n",
        "# for each test example, make a prediction\n",
        "for input_example in X_test:\n",
        "    y = sample_predict(input_example, sample_feature_weights)\n",
        "    predictions.append(y)\n",
        "\n",
        "# compute and print the accuracy\n",
        "print (calculate_accuracy(y_test, predictions))"
      ]
    },
    {
      "cell_type": "markdown",
      "metadata": {
        "id": "1vsgE786_A7Y"
      },
      "source": [
        "As you can observe here, the model achieves about 60% accuracy (note that the performance of a random classifier would be close to 50%)."
      ]
    },
    {
      "cell_type": "code",
      "execution_count": null,
      "metadata": {
        "colab": {
          "background_save": true
        },
        "id": "F8w1soRgii7d"
      },
      "outputs": [],
      "source": [
        "def extract_features(X):\n",
        "    \"\"\"\n",
        "    Extracts features from a text input.\n",
        "\n",
        "    Args:\n",
        "        X (string): Text input.\n",
        "\n",
        "    Returns:\n",
        "        dictionary: features extracted from X.\n",
        "    \"\"\"\n",
        "    features = {}\n",
        "    features['bias'] = 1\n",
        "\n",
        "    # ADD YOUR CODE HERE\n",
        "    X_split = X.split(' ')\n",
        "    positive_words = ['excellent', 'wonderfully', 'hilarious', 'perfect', 'hooked', 'awesome', 'amazing', 'loved', 'tight', 'enjoyed', 'rare', 'subtitles', 'subtle', 'freedom', 'winner', 'brutal', 'system', 'refreshing', 'edge', 'terrific']\n",
        "    negative_words = ['waste', 'worst', 'awful', 'dull', 'poor', 'poorly', 'stupid', 'terrible', 'mediocre', 'disappointing', 'lacks', 'boring', 'lousy', 'fails', 'Avoid', 'tedious', 'bland', 'garbage', 'screaming', 'worse']\n",
        "\n",
        "    # please extract features that you think would be useful.\n",
        "\n",
        "    features['positive_word_count'] = sum(1 for word in X_split if word in positive_words)\n",
        "    features['negative_word_count'] = sum(1 for word in X_split if word in negative_words)\n",
        "\n",
        "\n",
        "    return features\n"
      ]
    },
    {
      "cell_type": "code",
      "execution_count": null,
      "metadata": {
        "colab": {
          "background_save": true
        },
        "id": "CSWwAqP1sISc"
      },
      "outputs": [],
      "source": [
        "def get_feature_weights():\n",
        "    \"\"\"\n",
        "    To obtain feature weightage for different features.\n",
        "\n",
        "    Args:\n",
        "        None here.\n",
        "\n",
        "    Returns:\n",
        "        dictionary: feature names and their weightage.\n",
        "    \"\"\"\n",
        "\n",
        "    feature_weights = {}\n",
        "    feature_weights['bias'] = 0.5\n",
        "\n",
        "    # please manually assign feature weights to the features you've extracted\n",
        "    feature_weights['positive_word_count'] = 0.8\n",
        "    feature_weights['negative_word_count'] = -0.8\n",
        "\n",
        "    return feature_weights\n"
      ]
    },
    {
      "cell_type": "code",
      "execution_count": null,
      "metadata": {
        "colab": {
          "background_save": true
        },
        "id": "VCK1MB0JtWVQ"
      },
      "outputs": [],
      "source": [
        "def predict(X, feature_weights):\n",
        "    \"\"\"\n",
        "    Classifies the sentiment of a text input.\n",
        "\n",
        "    Args:\n",
        "        X (string): Text input.\n",
        "        feature_weights: weightage of different features.\n",
        "\n",
        "    Returns:\n",
        "        int: binary sentiment represented by 0/1.\n",
        "    \"\"\"\n",
        "\n",
        "    # ADD YOUR CODE HERE\n",
        "    features = extract_features(X)\n",
        "    weighted_sum = sum(feature_weights[feature] * features[feature] for feature in features)\n",
        "\n",
        "    threshold = 0.2\n",
        "    predicted_sentiment = 1 if weighted_sum > threshold else 0\n",
        "    return predicted_sentiment"
      ]
    },
    {
      "cell_type": "code",
      "execution_count": null,
      "metadata": {
        "colab": {
          "background_save": true
        },
        "id": "Ja11MgENt1X7",
        "outputId": "73796540-eba4-4db1-9bc4-2a7116469cee"
      },
      "outputs": [
        {
          "name": "stdout",
          "output_type": "stream",
          "text": [
            "EVALUATION of rule-based classifier is: 70.425\n"
          ]
        }
      ],
      "source": [
        "#@title Evaluating your rule-based classifier\n",
        "\n",
        "## Please do not change anything in this code block.\n",
        "\n",
        "feature_weights = get_feature_weights()\n",
        "\n",
        "predictions = []\n",
        "\n",
        "for input_example in X_test:\n",
        "    y = predict(input_example, feature_weights)\n",
        "    predictions.append(y)\n",
        "\n",
        "print (f\"EVALUATION of rule-based classifier is: {calculate_accuracy(y_test, predictions)}\")"
      ]
    },
    {
      "cell_type": "markdown",
      "metadata": {
        "id": "D5ezKoxrAtmw"
      },
      "source": [
        "Below, we will directly learn the feature weights, rather than manually assigning those ourselves as manual assignment can be error-prone and labor intensive.\n",
        "\n"
      ]
    },
    {
      "cell_type": "code",
      "execution_count": null,
      "metadata": {
        "colab": {
          "background_save": true
        },
        "id": "FPS-uzfGCpmW"
      },
      "outputs": [],
      "source": [
        "#@title Learning the weights of extracted features using logistic regression.\n",
        "\n",
        "from sklearn.linear_model import LogisticRegression\n",
        "\n",
        "def get_sample_learnable_weights(X_data, Y_data, sample_extract_features):\n",
        "    \"\"\"\n",
        "    Learn feature weights using the training data.\n",
        "\n",
        "    Args:\n",
        "        X_data (list of strings): All the text data points in training data.\n",
        "        Y_data (list of int): Ground truth labels for text data points in X_data.\n",
        "        sample_extract_features: A Function that extracts features from text sample.\n",
        "                                 The sample_extract_features function should be of the\n",
        "                                 same format as sample_extract_features(X) function\n",
        "                                 implemented above.\n",
        "\n",
        "        Returns:\n",
        "            dictionary: feature names and their learned weights.\n",
        "    \"\"\"\n",
        "    # training a logistic regression model for classification using\n",
        "    # the features obtained by sample_extract_features(X) function.\n",
        "\n",
        "    # get all feature names\n",
        "    feature_names = list(sample_extract_features(X_data[0]).keys())\n",
        "\n",
        "    # Below code snippet accumulates features extracted from all the\n",
        "    # text data points in X_data.\n",
        "    all_features = []\n",
        "    # iterate over all text data points in X_data.\n",
        "    for input_example in X_data:\n",
        "      feature = [] # to store features extracted from input_example.\n",
        "      feat_dict = sample_extract_features(input_example)\n",
        "      # iterate over different feature names and store the corresonding values.\n",
        "      for name in feature_names:\n",
        "        feature.append(feat_dict[name])\n",
        "      all_features.append(feature) # append features obtained from input_example to all_features.\n",
        "\n",
        "    # Below, we show how to fit a logistic regression (LR) model using the features and the target labels.\n",
        "    # We use Sklearn's 'LogisticRegression' to do this. While initiating, 'fit_intercept' is set False,\n",
        "    # because 'bias' is already included in the extracted feature (see sample_extract_features() implementation).\n",
        "    # Also, random state is set to 42 to avoid different initialization of the model while running the codebook\n",
        "    # multiple times.\n",
        "    clf = LogisticRegression(fit_intercept=False, random_state=42).fit(all_features, Y_data)\n",
        "\n",
        "    # As training a logistic regression model assigns weights to each of the features (refer class notes),\n",
        "    # these weights are learnable and we will use them as learned feature weights.\n",
        "\n",
        "    # extract feature weights.\n",
        "    coffs = clf.coef_[0]\n",
        "\n",
        "    # convert to dictionary\n",
        "    coffs_dict = {feature_names[i]: coffs[i] for i in range(len(feature_names))}\n",
        "\n",
        "    return coffs_dict"
      ]
    },
    {
      "cell_type": "code",
      "execution_count": null,
      "metadata": {
        "colab": {
          "background_save": true
        },
        "id": "vYhYCIHrCtBA",
        "outputId": "bed79ce0-4a6e-4d8f-defd-02b268687355"
      },
      "outputs": [
        {
          "name": "stdout",
          "output_type": "stream",
          "text": [
            "63.775\n"
          ]
        }
      ],
      "source": [
        "#@title Putting the sample rule-based classifier with learnable weights together\n",
        "\n",
        "# get the sample weights\n",
        "sample_feature_weights_lr = get_sample_learnable_weights(X_train, y_train, sample_extract_features)\n",
        "\n",
        "predictions = []\n",
        "\n",
        "for input_example in X_test:\n",
        "    y = sample_predict(input_example, sample_feature_weights_lr)\n",
        "    predictions.append(y)\n",
        "\n",
        "print (calculate_accuracy(y_test, predictions))"
      ]
    },
    {
      "cell_type": "markdown",
      "metadata": {
        "id": "TtL_r40MCxxp"
      },
      "source": [
        "As you can observe here, the model achieves about 63% accuracy (note that the performance of a random classifier would be close to 50%). Note that, the performance significantly improves by making the weights learnable as compared to the manual weights."
      ]
    },
    {
      "cell_type": "markdown",
      "metadata": {
        "id": "jivlIOvyDczl"
      },
      "source": [
        "## How does learnable weights-based classifier work on the features you implemented\n"
      ]
    },
    {
      "cell_type": "code",
      "execution_count": null,
      "metadata": {
        "colab": {
          "background_save": true
        },
        "id": "z-zlKnduEB98",
        "outputId": "b194f933-5650-41fb-e4c9-e7fd515ebf14"
      },
      "outputs": [
        {
          "name": "stdout",
          "output_type": "stream",
          "text": [
            "EVALUATION of rule-based classifier with learnable weights is: 70.975\n"
          ]
        }
      ],
      "source": [
        "#@title Evaluating rule-based classifier with learnable weights.\n",
        "\n",
        "feature_weights_lr = get_sample_learnable_weights(X_train, y_train, extract_features)\n",
        "\n",
        "predictions = []\n",
        "\n",
        "for input_example in X_test:\n",
        "    y = predict(input_example, feature_weights_lr)\n",
        "    predictions.append(y)\n",
        "\n",
        "print (f\"EVALUATION of rule-based classifier with learnable weights is: {calculate_accuracy(y_test, predictions)}\")"
      ]
    },
    {
      "cell_type": "code",
      "execution_count": null,
      "metadata": {
        "colab": {
          "background_save": true
        },
        "id": "UyQXo76zTt1N",
        "outputId": "50327ef0-136d-4676-b645-a06224444863"
      },
      "outputs": [
        {
          "data": {
            "image/png": "[encoded data removed]",
            "text/plain": [
              "<Figure size 1000x600 with 1 Axes>"
            ]
          },
          "metadata": {},
          "output_type": "display_data"
        }
      ],
      "source": [
        "# Add some text for labels, title, and custom x-axis tick labels, etc.\n",
        "#@title Visualization and comparison between manual and learnable weights.\n",
        "\n",
        "\n",
        "import matplotlib.pyplot as plt\n",
        "import numpy as np\n",
        "\n",
        "feature_names = list(feature_weights.keys())\n",
        "manual_weights = [feature_weights[name] for name in feature_names]\n",
        "learnt_weights = [feature_weights_lr[name] for name in feature_names]\n",
        "weights_dict = {\n",
        "    'Manual weights': manual_weights,\n",
        "    'Learnt weights': learnt_weights,\n",
        "}\n",
        "\n",
        "x = np.arange(len(feature_names))  # the label locations\n",
        "width = 0.35  # the width of the bars\n",
        "multiplier = 0\n",
        "\n",
        "fig, ax = plt.subplots(figsize=(10, 6), subplot_kw={'aspect': 'auto'})\n",
        "\n",
        "colors = ['#1f77b4', '#ff7f0e']\n",
        "\n",
        "for attribute, measurement, color in zip(weights_dict.keys(), weights_dict.values(), colors):\n",
        "    offset = width * multiplier\n",
        "    rects = ax.bar(x + offset, measurement, width, label=attribute, color=color, alpha=0.8)\n",
        "    ax.bar_label(rects, padding=3, fontsize=10, color='black')\n",
        "    multiplier += 1\n",
        "# Add some text for labels, title and custom x-axis tick labels, etc.\n",
        "ax.set_ylabel('Weight', fontsize=12)\n",
        "ax.set_title('Manual vs Learnable Weights Comparison', fontsize=14)\n",
        "ax.set_xticks(x + width / 2)\n",
        "ax.set_xticklabels(feature_names, rotation=45, ha='right', fontsize=10)\n",
        "ax.legend(loc='upper left', bbox_to_anchor=(1, 1), fontsize=12)\n",
        "\n",
        "ax.grid(axis='y', linestyle='--', alpha=0.7)\n",
        "\n",
        "ax.axhline(0, color='black', linewidth=0.8, linestyle='--')\n",
        "ax.axhline(1, color='red', linewidth=0.8, linestyle='--', label='Threshold = 1')\n",
        "ax.axhline(-1, color='blue', linewidth=0.8, linestyle='--', label='Threshold = -1')\n",
        "plt.tight_layout()\n",
        "plt.savefig('manual_vs_learned_weights.png', bbox_inches='tight', dpi=300)\n",
        "plt.show()\n",
        "# Refer to the saved manual_vs_learned_weights.png to see how manual and learned weights compare."
      ]
    },
    {
      "cell_type": "markdown",
      "metadata": {
        "id": "NFy5JND8rzDM"
      },
      "source": [
        "### Approach 2: Bag-of-Words (BoW)\n",
        "\n",
        "---\n",
        "\n",
        "\n",
        "\n",
        "The BoW vector representations is based on the unordered counts of words piece of text (similar to a \"bag\" of words).\n",
        "\n",
        "Let's attempt to build a classifier that tries to classify the reviews based on such vectors."
      ]
    },
    {
      "cell_type": "code",
      "execution_count": null,
      "metadata": {
        "colab": {
          "background_save": true
        },
        "id": "sZvnFl7MUW-v"
      },
      "outputs": [],
      "source": [
        "# implement BoW classifier. In case the total number of words are very large,\n",
        "# consider using top-k most frequent words (e.g. k=10,000) while creating BoW vectors.\n",
        "\n",
        "# The below function finds out all words present in the corpus and assigns each word to\n",
        "# an index.\n",
        "\n",
        "from sklearn.feature_extraction.text import TfidfVectorizer\n",
        "from sklearn.feature_extraction.text import ENGLISH_STOP_WORDS\n",
        "from collections import Counter\n",
        "\n",
        "def word_to_idx_BOW(X_data, K=10000):\n",
        "    \"\"\"\n",
        "    Generates a set of word-index pairs after analyzing all words present in entire\n",
        "    data corpus X_data.\n",
        "\n",
        "    Args:\n",
        "        X_data (list of strings): All the text data points in training data.\n",
        "        K (int): The number of most frequent words to be considered.\n",
        "                 In case (K-p)th to (K+q)th words in most frequent words order\n",
        "                 have the same frequency, you can choose p words randomly from those\n",
        "                 (p+q) number of words.\n",
        "\n",
        "        Returns:\n",
        "            dictionary: words as keys and indices as values.\n",
        "    \"\"\"\n",
        "    all_text = ' '.join(X_data)\n",
        "    words = all_text.split()\n",
        "    word_freq = Counter(words)\n",
        "    top_words = [word for word, _ in word_freq.most_common(K)]\n",
        "    word_to_idx = {word: idx for idx, word in enumerate(top_words)}\n",
        "    return word_to_idx\n",
        "\n",
        "stop_words_list = list(ENGLISH_STOP_WORDS)\n",
        "tfidf_vectorizer = TfidfVectorizer(stop_words=stop_words_list, max_features=10000)\n",
        "tfidf_matrix = tfidf_vectorizer.fit_transform(X_train)\n",
        "feature_names = tfidf_vectorizer.get_feature_names_out()\n",
        "idf_values = tfidf_vectorizer.idf_\n",
        "word_to_idf = dict(zip(feature_names, idf_values))\n",
        "\n",
        "def extract_features_BoW(X, word_to_idx):\n",
        "    \"\"\"\n",
        "    Generates BoW-TFIDF features for X using word_to_idx.\n",
        "\n",
        "    Args:\n",
        "        X (string): text input.\n",
        "        word_to_idx (dictionary): word-index mapping with words as keys and\n",
        "                                  indices as values.\n",
        "\n",
        "        Returns:\n",
        "            dictionary: features of X.\n",
        "    \"\"\"\n",
        "    features = {}\n",
        "\n",
        "    words = X.split()\n",
        "\n",
        "    word_counts = Counter(words)\n",
        "\n",
        "    for word, count in word_counts.items():\n",
        "        if word in word_to_idx and word in word_to_idf:\n",
        "            tfidf_value = count * word_to_idf[word]\n",
        "            features[word_to_idx[word]] = tfidf_value\n",
        "\n",
        "    return features\n"
      ]
    },
    {
      "cell_type": "code",
      "execution_count": null,
      "metadata": {
        "colab": {
          "background_save": true
        },
        "id": "zyVSQx4EaYGJ",
        "outputId": "22990594-e78b-41d0-a0fd-f9da10f2cfaf"
      },
      "outputs": [
        {
          "name": "stdout",
          "output_type": "stream",
          "text": [
            "{4: 7.827795901169904}\n"
          ]
        }
      ],
      "source": [
        "# checking the outputs of the above functions on a small set of examples\n",
        "\n",
        "sample_data = [\n",
        "    \"When is the homework due ?\",\n",
        "    \"When are the TAs' office hours ?\",\n",
        "    \"How hard is the homework ?\",\n",
        "]\n",
        "word_to_idx = word_to_idx_BOW(sample_data)\n",
        "features = extract_features_BoW(sample_data[0], word_to_idx)\n",
        "print(features)"
      ]
    },
    {
      "cell_type": "code",
      "execution_count": null,
      "metadata": {
        "colab": {
          "background_save": true
        },
        "id": "J7WZJiMqaftX"
      },
      "outputs": [],
      "source": [
        "#@title Implement  feature weight learning for BoW classifier\n",
        "\n",
        "from sklearn.linear_model import LogisticRegression\n",
        "from sklearn.feature_extraction.text import ENGLISH_STOP_WORDS\n",
        "\n",
        "def get_learnable_weights_BoW(X_data, Y_data, word_to_idx_BOW, extract_features_BoW):\n",
        "    \"\"\"\n",
        "    Learning feature weights for BoW features, using training data.\n",
        "\n",
        "    Args:\n",
        "        X_data (list of strings): All the text data points in training data.\n",
        "        Y_data (list of int): Ground truth labels for text data points in X_data.\n",
        "        word_to_idx_BOW: A Function that looks at all the words in data corpus X_data\n",
        "                         and returns a word-index mapping.\n",
        "        extract_features_BoW: A Function that extracts BoW features from text sample.\n",
        "\n",
        "        Returns:\n",
        "            dictionary: feature names and their learned weights.\n",
        "    \"\"\"\n",
        "\n",
        "    word_to_idx = word_to_idx_BOW(X_data)\n",
        "\n",
        "    all_features = [extract_features_BoW(text, word_to_idx) for text in X_data]\n",
        "\n",
        "    # Convert feature vectors to array\n",
        "    X_array = [[features.get(idx, 0) for idx in range(len(word_to_idx))] for features in all_features]\n",
        "\n",
        "    clf = LogisticRegression(fit_intercept=False, random_state=42, max_iter=1000)\n",
        "\n",
        "    clf.fit(X_array, Y_data)\n",
        "\n",
        "    weights = clf.coef_[0]\n",
        "\n",
        "    coffs_dict = {word: weights[idx] for word, idx in word_to_idx.items()}\n",
        "\n",
        "    return coffs_dict\n"
      ]
    },
    {
      "cell_type": "code",
      "execution_count": null,
      "metadata": {
        "colab": {
          "background_save": true
        },
        "id": "e0uezBgIa_7E",
        "outputId": "a9ee8cad-761f-45f5-af53-0faa6f45aa3a"
      },
      "outputs": [
        {
          "name": "stdout",
          "output_type": "stream",
          "text": [
            "EVALUATION of BoW classifier is: 80.675\n"
          ]
        }
      ],
      "source": [
        "#@title Evaluating  BoW classifier\n",
        "\n",
        "from collections import Counter\n",
        "\n",
        "def predict(X, feature_weights):\n",
        "    \"\"\"\n",
        "    Classifies the sentiment of a text input.\n",
        "\n",
        "    Args:\n",
        "        X (string): Text input.\n",
        "        feature_weights: weightage of different features.\n",
        "\n",
        "    Returns:\n",
        "        int: binary sentiment represented by 0/1.\n",
        "    \"\"\"\n",
        "    words = X.split()\n",
        "\n",
        "    word_counts = Counter(words)\n",
        "\n",
        "    sentiment_score = 0.0\n",
        "\n",
        "    for word, count in word_counts.items():\n",
        "        if word in feature_weights:\n",
        "            sentiment_score += count * feature_weights[word]\n",
        "\n",
        "    threshold = 0.0\n",
        "    predicted_sentiment = 1 if sentiment_score > threshold else 0\n",
        "\n",
        "    return predicted_sentiment\n",
        "\n",
        "BoW_feature_weights_lr = get_learnable_weights_BoW(X_train, y_train, word_to_idx_BOW, extract_features_BoW)\n",
        "\n",
        "predictions = []\n",
        "\n",
        "for input_example in X_test:\n",
        "    y = predict(input_example, BoW_feature_weights_lr)\n",
        "    predictions.append(y)\n",
        "\n",
        "print(f\"EVALUATION of BoW classifier is: {calculate_accuracy(y_test, predictions)}\")\n"
      ]
    },
    {
      "cell_type": "markdown",
      "metadata": {
        "id": "F_4mWuCdHEue"
      },
      "source": [
        "## Finding most positive and most negative words (2 Marks)\n",
        "\n",
        "Based on the magnitude of weights corresponding to different words, write down code to find the 5 most positive words and 5 most negative words."
      ]
    },
    {
      "cell_type": "markdown",
      "metadata": {
        "id": "D4XKTpjPxdQZ"
      },
      "source": [
        "###Most Positive & Negative Words"
      ]
    },
    {
      "cell_type": "code",
      "execution_count": null,
      "metadata": {
        "colab": {
          "background_save": true
        },
        "id": "dMsgQzJ_psDO",
        "outputId": "c5e0cd51-a402-45e8-a403-1d9bdaf40392"
      },
      "outputs": [
        {
          "name": "stdout",
          "output_type": "stream",
          "text": [
            "EVALUATION five most positive words: wonderfully extraordinary astonishing pursued flawless\n",
            "EVALUATION five most negative words: waste wasting worst agenda considerably\n"
          ]
        }
      ],
      "source": [
        "most_positive_words = sorted(BoW_feature_weights_lr, key=BoW_feature_weights_lr.get, reverse=True)[:5]\n",
        "most_negative_words = sorted(BoW_feature_weights_lr, key=BoW_feature_weights_lr.get)[:5]\n",
        "\n",
        "## WRITE CODE HERE TO POPULATE THESE LISTS\n",
        "## most_postive_words and most_negative_words should be list of strings\n",
        "\n",
        "print(\"EVALUATION five most positive words: \" + \" \".join(most_positive_words))\n",
        "print(\"EVALUATION five most negative words: \" + \" \".join(most_negative_words))"
      ]
    },
    {
      "cell_type": "markdown",
      "metadata": {
        "id": "BjF-QNhRH4IM"
      },
      "source": [
        "## Part II Word2Vec\n",
        "\n",
        "Word2vec is one of the most popular techniques to learn word embeddings. The idea behind word2vec was that the meaning of a word is determined by the context in which it occurs. A word embedding is a learned representation for text where words that have the same meaning have a similar representation.\n",
        "\n",
        "**Word2vec** model has 2 architectures:\n",
        "\n",
        "1. **Continuous bag of word (CBOW):**\n",
        "\n",
        "    CBOW predicts the center word from the surrounding context words.\n",
        "\n",
        "2. **Skip-gram:**\n",
        "\n",
        "    Skip-gram predicts surrounding context words from the center word."
      ]
    },
    {
      "cell_type": "markdown",
      "metadata": {
        "id": "sxZ6Q_zJH9K7"
      },
      "source": [
        "#### SkipGram from Scratch\n",
        "\n",
        "In this exercise, you will code the skipgram model from scratch using the PyTorch library."
      ]
    },
    {
      "cell_type": "code",
      "execution_count": null,
      "metadata": {
        "colab": {
          "base_uri": "https://localhost:8080/"
        },
        "id": "uZby7iwVt5IC",
        "outputId": "37610c2b-6dee-4806-879c-2638ed0d4bd5"
      },
      "outputs": [
        {
          "output_type": "stream",
          "name": "stdout",
          "text": [
            "Requirement already satisfied: portalocker in /usr/local/lib/python3.10/dist-packages (2.8.2)\n"
          ]
        }
      ],
      "source": [
        "!pip install portalocker #make sure you install the library and restart the session"
      ]
    },
    {
      "cell_type": "code",
      "execution_count": null,
      "metadata": {
        "id": "4Cq-Hto9r46E"
      },
      "outputs": [],
      "source": [
        "# importing the necessary libraries\n",
        "import torch\n",
        "from functools import partial\n",
        "import torch.nn as nn\n",
        "from torch.utils.data import DataLoader\n",
        "from torchtext.data import to_map_style_dataset\n",
        "from torchtext.data.utils import get_tokenizer\n",
        "from torchtext.vocab import build_vocab_from_iterator\n",
        "from torchtext.datasets import WikiText2\n",
        "import torch.optim as optim\n",
        "from torch.optim.lr_scheduler import LambdaLR\n",
        "\n",
        "import os\n",
        "import numpy as np\n",
        "import json\n",
        "import argparse"
      ]
    },
    {
      "cell_type": "markdown",
      "metadata": {
        "id": "QBRUC7hZIHr5"
      },
      "source": [
        "> **In the following code the add your hyperparameters for the network.**"
      ]
    },
    {
      "cell_type": "code",
      "execution_count": null,
      "metadata": {
        "id": "UzvHDxtQt3SH"
      },
      "outputs": [],
      "source": [
        "# Initialization\n",
        "\n",
        "\n",
        "\"\"\"choose your hyperparameter and see the difference in performance\"\"\"\n",
        "\n",
        "# ADD YOUR CODE HERE\n",
        "\n",
        "# CHANGE THE None VALUES TO YOUR DESIRED VALUES\n",
        "# Please free to play with these hyperparameters to see the effects on the\n",
        "# quality of generated embeddings\n",
        "\n",
        "\n",
        "SKIPGRAM_N_WORDS = 4 # the length of the context on each side (k)\n",
        "MIN_WORD_FREQUENCY = 280 # only words with a minimum word frequency considered\n",
        "MAX_SEQUENCE_LENGTH = 200 # sentences with length more than this value truncated\n",
        "EMBED_DIMENSION = 300 # dimension of the word2vec vectors\n",
        "EMBED_MAX_NORM = 2"
      ]
    },
    {
      "cell_type": "code",
      "execution_count": null,
      "metadata": {
        "id": "qSaj2RHmwFph"
      },
      "outputs": [],
      "source": [
        "def get_english_tokenizer():\n",
        "    \"\"\"\n",
        "    Documentation:\n",
        "    https://pytorch.org/text/stable/_modules/torchtext/data/utils.html#get_tokenizer\n",
        "    \"\"\"\n",
        "    tokenizer = get_tokenizer(\"basic_english\", language=\"en\")\n",
        "    return tokenizer\n",
        "\n",
        "def get_data_iterator(ds_name, ds_type, data_dir):\n",
        "    \"\"\"\n",
        "    input dataset used:\n",
        "    https://paperswithcode.com/dataset/wikitext-2\n",
        "    This is directly imported from PyTorch.\n",
        "    \"\"\"\n",
        "    data_iter = WikiText2(root=data_dir, split=(ds_type))\n",
        "    data_iter = to_map_style_dataset(data_iter)\n",
        "    return data_iter\n",
        "\n",
        "def build_vocab(data_iter, tokenizer):\n",
        "    \"\"\"Builds vocabulary from iterator\"\"\"\n",
        "\n",
        "    vocab = build_vocab_from_iterator(\n",
        "        map(tokenizer, data_iter),\n",
        "        specials=[\"<unk>\"], #adding special tokens to the vocabulary\n",
        "        min_freq=MIN_WORD_FREQUENCY,\n",
        "    )\n",
        "    vocab.set_default_index(vocab[\"<unk>\"])\n",
        "    return vocab\n",
        "\n",
        "\n",
        "def collate_skipgram(batch, text_pipeline):\n",
        "    \"\"\"\n",
        "    This function prepares data for training the skipgram model.\n",
        "    It generates pairs of center and context words from the batch of text.\n",
        "\n",
        "    batch: A batch of text data\n",
        "    text_pipeline: A pipeline function that processes text into tokens\n",
        "    (batch_input, batch_output) -> (center word, context words)\n",
        "    \"\"\"\n",
        "    batch_input, batch_output = [], []\n",
        "\n",
        "    # Process each text in the batch\n",
        "    for text in batch:\n",
        "        text_tokens_ids = text_pipeline(text)\n",
        "\n",
        "        # Skip texts shorter than the required window size\n",
        "        if len(text_tokens_ids) < SKIPGRAM_N_WORDS * 2 + 1:\n",
        "            continue\n",
        "\n",
        "        # Truncate texts to a maximum sequence length if specified\n",
        "        if MAX_SEQUENCE_LENGTH:\n",
        "            text_tokens_ids = text_tokens_ids[:MAX_SEQUENCE_LENGTH]\n",
        "\n",
        "        # Create training pairs for each word in the text\n",
        "        for idx in range(len(text_tokens_ids) - SKIPGRAM_N_WORDS * 2):\n",
        "            token_id_sequence = text_tokens_ids[idx : (idx + SKIPGRAM_N_WORDS * 2 + 1)]\n",
        "            input_ = token_id_sequence.pop(SKIPGRAM_N_WORDS)\n",
        "            outputs = token_id_sequence\n",
        "\n",
        "            # Add each context word with the center word to the output lists\n",
        "            for output in outputs:\n",
        "                batch_input.append(input_)\n",
        "                batch_output.append(output)\n",
        "\n",
        "    # Convert lists to PyTorch tensors\n",
        "    batch_input = torch.tensor(batch_input, dtype=torch.long)\n",
        "    batch_output = torch.tensor(batch_output, dtype=torch.long)\n",
        "\n",
        "    return batch_input, batch_output\n",
        "\n",
        "\n",
        "def get_dataloader_and_vocab(\n",
        "    model_name, ds_name, ds_type, data_dir, batch_size, shuffle, vocab=None\n",
        "    ):\n",
        "    \"\"\"\n",
        "    Prepares a DataLoader and builds a vocabulary for the dataset.\n",
        "    model_name: Name of the model to be used\n",
        "    ds_name: Name of the dataset\n",
        "    ds_type: Type of the dataset (e.g., train, test)\n",
        "    data_dir: Directory where the dataset is stored\n",
        "    batch_size: Size of each batch\n",
        "    vocab: An existing vocabulary, if available\n",
        "\n",
        "    \"\"\"\n",
        "\n",
        "    data_iter = get_data_iterator(ds_name, ds_type, data_dir)\n",
        "    tokenizer = get_english_tokenizer()\n",
        "\n",
        "    if not vocab:\n",
        "        vocab = build_vocab(data_iter, tokenizer)\n",
        "\n",
        "    text_pipeline = lambda x: vocab(tokenizer(x))\n",
        "\n",
        "    collate_fn = collate_skipgram\n",
        "\n",
        "    # creates a DataLoader for the dataset\n",
        "\n",
        "    \"\"\"\n",
        "    dataloader documentation\n",
        "    https://pytorch.org/docs/stable/data.html#torch.utils.data.DataLoader\n",
        "\n",
        "    \"\"\"\n",
        "    dataloader = DataLoader(\n",
        "        data_iter,\n",
        "        batch_size=batch_size,\n",
        "        shuffle=shuffle,\n",
        "        collate_fn=partial(collate_fn, text_pipeline=text_pipeline),\n",
        "        )\n",
        "\n",
        "    return dataloader, vocab\n"
      ]
    },
    {
      "cell_type": "markdown",
      "metadata": {
        "id": "cOry40-uxJmu"
      },
      "source": [
        "### Initialize the SkipGram Model\n",
        "\n",
        " **Complete the `initialization` and `forward` function in the following  SkipGram_Model class**"
      ]
    },
    {
      "cell_type": "code",
      "execution_count": null,
      "metadata": {
        "id": "wxe9U9YNwYk_"
      },
      "outputs": [],
      "source": [
        "class SkipGram_Model(nn.Module):\n",
        "    \"\"\"\n",
        "    Implementation of Skip-Gram model described in paper:\n",
        "    https://arxiv.org/abs/1301.3781\n",
        "    \"\"\"\n",
        "    def __init__(self, vocab_size: int, embed_dimension: int):\n",
        "        super(SkipGram_Model, self).__init__()\n",
        "\n",
        "        \"\"\"define the embedding and the linear layer of the network\"\"\"\n",
        "        # this is the initialization for the layers in the skipgram model\n",
        "\n",
        "        # ADD YOUR CODE HERE\n",
        "        self.embeddings = nn.Embedding(vocab_size, embed_dimension)\n",
        "        self.linear = nn.Linear(embed_dimension, vocab_size)\n",
        "        self.log_softmax = nn.LogSoftmax(dim=1)\n",
        "\n",
        "    def forward(self, inputs_):\n",
        "        \"\"\"define forward function\"\"\"\n",
        "        # ADD YOUR CODE HERE\n",
        "\n",
        "        # return the output of your final layer to find the minimize the loss\n",
        "        embeds = self.embeddings(inputs_)\n",
        "        output = self.linear(embeds)\n",
        "        log_probs = self.log_softmax(output)\n",
        "\n",
        "        return log_probs\n",
        "\n",
        "    def get_word_embedding(self):\n",
        "        \"\"\" return the associated word embeddings for center words \"\"\"\n",
        "\n",
        "        # ADD YOUR CODE HERE\n",
        "\n",
        "        # return the normalized embeddings as a 2D numpy array (in word2vec models,\n",
        "        # the vector associated with the center word is considered\n",
        "        # word embedding)\n",
        "        word_embeddings = self.embeddings.weight.data.numpy()\n",
        "        norm_word_embeddings = word_embeddings / np.linalg.norm(word_embeddings, axis=1, keepdims=True)\n",
        "\n",
        "        return norm_word_embeddings"
      ]
    },
    {
      "cell_type": "markdown",
      "metadata": {
        "id": "wxAJfW0eI-bl"
      },
      "source": [
        "\n",
        "> The following is the Trainer class for the skip-gram model. Add your code for the training and validation loops.\n",
        "\n"
      ]
    },
    {
      "cell_type": "code",
      "execution_count": null,
      "metadata": {
        "id": "oDPdXiPewrRg"
      },
      "outputs": [],
      "source": [
        "import torch\n",
        "\n",
        "class Trainer:\n",
        "    \"\"\"Main class for model training\"\"\"\n",
        "\n",
        "    # NOTE: you are free to add additional inputs/functions\n",
        "    # to the trainer class to make training better\n",
        "    # make sure to define and add it within the input\n",
        "    # and initialization if you are using any additional inputs\n",
        "    # for usage in the function\n",
        "    def __init__(\n",
        "        self,\n",
        "        model,\n",
        "        epochs,\n",
        "        train_dataloader,\n",
        "        val_dataloader,\n",
        "        criterion,\n",
        "        optimizer,\n",
        "        device,\n",
        "        model_dir,\n",
        "        model_name,\n",
        "    ):\n",
        "        self.model = model\n",
        "        self.epochs = epochs\n",
        "        self.train_dataloader = train_dataloader\n",
        "        self.val_dataloader = val_dataloader\n",
        "        self.criterion = criterion\n",
        "        self.optimizer = optimizer\n",
        "        self.device = device\n",
        "        self.model_dir = model_dir\n",
        "        self.model_name = model_name\n",
        "        self.loss = {\"train\": [], \"val\": []}\n",
        "        self.model.to(self.device)\n",
        "\n",
        "    # ADD YOUR CODE HERE FOR TRAINING & VALIDATION\n",
        "    # This implementation need not include negative sampling.\n",
        "\n",
        "    # NOTE: you can add additional functions to make training better\n",
        "\n",
        "\n",
        "    def train_epoch(self):\n",
        "        self.model.train()\n",
        "        total_loss = 0.0\n",
        "\n",
        "        for batch in self.train_dataloader:\n",
        "            inputs, targets = batch\n",
        "            inputs, targets = inputs.to(self.device), targets.to(self.device)\n",
        "\n",
        "            self.optimizer.zero_grad()\n",
        "            outputs = self.model(inputs)\n",
        "            loss = self.criterion(outputs, targets)\n",
        "            loss.backward()\n",
        "            self.optimizer.step()\n",
        "\n",
        "            total_loss += loss.item()\n",
        "\n",
        "        return total_loss / len(self.train_dataloader)\n",
        "\n",
        "    def validate(self):\n",
        "        self.model.eval()\n",
        "        total_loss = 0.0\n",
        "\n",
        "        with torch.no_grad():\n",
        "            for batch in self.val_dataloader:\n",
        "                inputs, targets = batch\n",
        "                inputs, targets = inputs.to(self.device), targets.to(self.device)\n",
        "\n",
        "                outputs = self.model(inputs)\n",
        "                loss = self.criterion(outputs, targets)\n",
        "\n",
        "                total_loss += loss.item()\n",
        "\n",
        "        return total_loss / len(self.val_dataloader)\n",
        "\n",
        "    def train(self):\n",
        "        for epoch in range(1, self.epochs + 1):\n",
        "            train_loss = self.train_epoch()\n",
        "            val_loss = self.validate()\n",
        "\n",
        "            self.loss[\"train\"].append(train_loss)\n",
        "            self.loss[\"val\"].append(val_loss)\n",
        "\n",
        "            print(f\"Epoch {epoch}/{self.epochs}, Train Loss: {train_loss:.4f}, Val Loss: {val_loss:.4f}\")\n",
        "\n",
        "        self.save_model()\n",
        "        self.save_loss()\n",
        "\n",
        "    def save_model(self):\n",
        "        \"\"\"\n",
        "        Save final model to directory\n",
        "\n",
        "        \"\"\"\n",
        "        model_path = os.path.join(self.model_dir, f\"{self.model_name}_model.pt\")\n",
        "        torch.save(self.model.state_dict(), model_path)\n",
        "\n",
        "    def save_loss(self):\n",
        "        \"\"\"\n",
        "        Save train/val loss as json file to the directory\n",
        "\n",
        "        \"\"\"\n",
        "        loss_path = os.path.join(self.model_dir, f\"{self.model_name}_loss.json\")\n",
        "        with open(loss_path, \"w\") as fp:\n",
        "            json.dump(self.loss, fp)\n"
      ]
    },
    {
      "cell_type": "markdown",
      "metadata": {
        "id": "l16h2hh4Jk8L"
      },
      "source": [
        "\n",
        "\n",
        "> **The following code block defines the various parameters and nomenclature for the training and saving of the skip-gram model. Add numerical values for the `specified hyperparameters`.**\n",
        "\n"
      ]
    },
    {
      "cell_type": "code",
      "execution_count": null,
      "metadata": {
        "id": "Wr85dh05x8ne"
      },
      "outputs": [],
      "source": [
        "# ADD YOUR CODE HERE\n",
        "# CHANGE THE None VALUES TO YOUR DESIRED VALUES\n",
        "\n",
        "model_name = 'skipgram'\n",
        "\n",
        "dataset = 'WikiText2'\n",
        "data_dir = './data/'\n",
        "train_batch_size = 32\n",
        "val_batch_size = 32\n",
        "shuffle = True\n",
        "\n",
        "optimizer = 'Adam'\n",
        "learning_rate = 0.03\n",
        "epochs = 10\n",
        "\n",
        "# ADD YOUR CODE HERE\n",
        "# change the directory name with your SAPname and SRno\n",
        "\n",
        "model_dir = 'Pritam_23754_3'"
      ]
    },
    {
      "cell_type": "markdown",
      "metadata": {
        "id": "QD1ORV_0J6xo"
      },
      "source": [
        "> **The following code block is used to train and save the model. Add the code wherever required**"
      ]
    },
    {
      "cell_type": "code",
      "execution_count": null,
      "metadata": {
        "id": "gV2LthqLy6kN",
        "colab": {
          "base_uri": "https://localhost:8080/"
        },
        "outputId": "aade7211-1eb7-4de5-efcd-bf0aa9685d27"
      },
      "outputs": [
        {
          "output_type": "stream",
          "name": "stdout",
          "text": [
            "Vocabulary size: 706\n",
            "Epoch 1/10, Train Loss: 3.9107, Val Loss: 3.8340\n",
            "Epoch 2/10, Train Loss: 3.8225, Val Loss: 3.8324\n",
            "Epoch 3/10, Train Loss: 3.8238, Val Loss: 3.8257\n",
            "Epoch 4/10, Train Loss: 3.8299, Val Loss: 3.8416\n",
            "Epoch 5/10, Train Loss: 3.8299, Val Loss: 3.8365\n",
            "Epoch 6/10, Train Loss: 3.8314, Val Loss: 3.8419\n",
            "Epoch 7/10, Train Loss: 3.8304, Val Loss: 3.8444\n",
            "Epoch 8/10, Train Loss: 3.8330, Val Loss: 3.8438\n",
            "Epoch 9/10, Train Loss: 3.8328, Val Loss: 3.8295\n",
            "Epoch 10/10, Train Loss: 3.8295, Val Loss: 3.8451\n",
            "Training finished.\n",
            "Model artifacts saved to folder: Pritam_23754_3\n"
          ]
        }
      ],
      "source": [
        "os.makedirs(model_dir)\n",
        "\n",
        "train_dataloader, vocab = get_dataloader_and_vocab(\n",
        "    model_name=model_name,\n",
        "    ds_name=dataset,\n",
        "    ds_type=\"train\",\n",
        "    data_dir=data_dir,\n",
        "    batch_size=train_batch_size,\n",
        "    shuffle=shuffle,\n",
        "    vocab=None,\n",
        ")\n",
        "\n",
        "val_dataloader, _ = get_dataloader_and_vocab(\n",
        "    model_name=model_name,\n",
        "    ds_name=dataset,\n",
        "    ds_type=\"valid\",\n",
        "    data_dir=data_dir,\n",
        "    batch_size=val_batch_size,\n",
        "    shuffle=shuffle,\n",
        "    vocab=vocab,\n",
        ")\n",
        "\n",
        "vocab_size = len(vocab.get_stoi())\n",
        "print(f\"Vocabulary size: {vocab_size}\")\n",
        "\n",
        "model_class = SkipGram_Model\n",
        "model = model_class(vocab_size=vocab_size, embed_dimension=EMBED_DIMENSION)\n",
        "\n",
        "# ADD YOUR CODE HERE\n",
        "# You'll have to specify the loss criterion\n",
        "# Your loss function would depend upon whether you\n",
        "# choose to train with negative sampling or not\n",
        "# either of the two are valid choices\n",
        "\n",
        "criterion = nn.CrossEntropyLoss()\n",
        "\n",
        "# ADD YOUR CODE HERE\n",
        "# You'll have to specify the optimizer here\n",
        "optimizer = optim.Adam(model.parameters(), lr=learning_rate)\n",
        "\n",
        "device = torch.device(\"cuda\" if torch.cuda.is_available() else \"cpu\")\n",
        "\n",
        "# NOTE: if you are **optionally** using additional options for the trainer\n",
        "# (e.g., a training scheduler), please add them below.\n",
        "\n",
        "\n",
        "\n",
        "trainer = Trainer(\n",
        "    model=model,\n",
        "    epochs=epochs,\n",
        "    train_dataloader=train_dataloader,\n",
        "    val_dataloader=val_dataloader,\n",
        "    criterion=criterion,\n",
        "    optimizer=optimizer,\n",
        "    device=device,\n",
        "    model_dir=model_dir,\n",
        "    model_name=model_name,\n",
        ")\n",
        "\n",
        "\n",
        "trainer.train()\n",
        "print(\"Training finished.\")\n",
        "\n",
        "trainer.save_model()\n",
        "trainer.save_loss()\n",
        "vocab_path = os.path.join(model_dir, \"vocab.pt\")\n",
        "torch.save(vocab, vocab_path)\n",
        "print(\"Model artifacts saved to folder:\", model_dir)"
      ]
    },
    {
      "cell_type": "markdown",
      "metadata": {
        "id": "9clAXUdEKi9-"
      },
      "source": [
        "### Let us analyze the performance of the model\n",
        "\n",
        "You'll be evaluated on the quality of the word representations as judged by the word similarity test, and word analogy tests.\n"
      ]
    },
    {
      "cell_type": "code",
      "execution_count": null,
      "metadata": {
        "id": "R7yeQyhKPLuP"
      },
      "outputs": [],
      "source": [
        "#@title Evaluation\n",
        "\n",
        "import numpy as np\n",
        "import pandas as pd\n",
        "import torch\n",
        "import sys\n",
        "from sklearn.metrics.pairwise import cosine_similarity\n",
        "import seaborn as sns\n",
        "from sklearn.decomposition import PCA\n",
        "import matplotlib.pyplot as plt\n",
        "import gensim"
      ]
    },
    {
      "cell_type": "code",
      "execution_count": null,
      "metadata": {
        "id": "JgyLGyI2PNyK"
      },
      "outputs": [],
      "source": [
        "# ADD YOUR CODE HERE\n",
        "# change the directory name with your SAPname and SRno\n",
        "\n",
        "folder = \"Pritam_23754_3\"\n",
        "device = torch.device(\"cuda\" if torch.cuda.is_available() else \"cpu\")\n",
        "\n",
        "# load the saved model\n",
        "model = torch.load(f\"{folder}/skipgram_model.pt\", map_location=device)\n",
        "vocab = torch.load(f\"{folder}/vocab.pt\")"
      ]
    },
    {
      "cell_type": "code",
      "execution_count": null,
      "metadata": {
        "id": "kcleTaJLRBmW"
      },
      "outputs": [],
      "source": [
        "word_embeddings = model['embeddings.weight'].cpu().numpy()\n",
        "\n",
        "# ADD YOUR CODE HERE\n",
        "# Change the directory name with your SAP name and SR no\n",
        "directory_name = 'Pritam_23754_3/'\n",
        "\n",
        "# Save the embeddings to the folder\n",
        "np.save(directory_name + 'word_embeddings.npy', word_embeddings)\n"
      ]
    },
    {
      "cell_type": "markdown",
      "metadata": {
        "id": "dX_ds7kKMHl2"
      },
      "source": [
        "Once the embeddings are trained, we can use a few words to evaluate some desirable properties of word representations.\n",
        "\n",
        "For instance, whether similar words are indeed similar in the high-dimensional space?"
      ]
    },
    {
      "cell_type": "code",
      "execution_count": null,
      "metadata": {
        "id": "pa5ywTHKRQFL"
      },
      "outputs": [],
      "source": [
        "words = ['king', 'queen', 'river', 'water', 'ocean', 'tree', 'plant', 'happy', 'glad', 'mother', 'daughter']"
      ]
    },
    {
      "cell_type": "markdown",
      "metadata": {
        "id": "e38ny9TWMMez"
      },
      "source": [
        "> **Write a code to find the similarity of the each word in words with eachother**"
      ]
    },
    {
      "cell_type": "code",
      "execution_count": null,
      "metadata": {
        "id": "tZ9qixmnRUSB"
      },
      "outputs": [],
      "source": [
        "def get_word_similarity(words, word_embeddings):\n",
        "  \"\"\"\n",
        "  This function takes the words as input and outputs the word vectors\n",
        "  corresponding to the words obtained from your word2vec model and the\n",
        "  similarity of every word with each other.\n",
        "  word2vec is the embedding matrix corresponding to the given words and\n",
        "  this has to be returned as a numpy array to apply PCA on it whereas,\n",
        "  w2v_similarity[i][j] should contain the similarity of word i with word j\n",
        "\n",
        "  \"\"\"\n",
        "  # ADD YOUR CODE HERE\n",
        "\n",
        "  # you'll have to compute the similarity matrix for the words given above\n",
        "\n",
        "  word2vec = {}\n",
        "  for i, word in enumerate(words):\n",
        "      word2vec[word] = word_embeddings[i]\n",
        "\n",
        "  # Initialize a matrix to store the similarity values\n",
        "  w2v_similarity = np.zeros((len(words), len(words)))\n",
        "\n",
        "  # Calculate the cosine similarity between each pair of words\n",
        "  for i in range(len(words)):\n",
        "      for j in range(len(words)):\n",
        "          if i != j:\n",
        "              vec_i = word2vec[words[i]]\n",
        "              vec_j = word2vec[words[j]]\n",
        "              similarity = np.dot(vec_i, vec_j) / (np.linalg.norm(vec_i) * np.linalg.norm(vec_j))\n",
        "              w2v_similarity[i][j] = similarity\n",
        "\n",
        "  return word2vec, w2v_similarity\n",
        "\n",
        "word2vec, w2v_similarity = get_word_similarity(words, word_embeddings)\n"
      ]
    },
    {
      "cell_type": "markdown",
      "metadata": {
        "id": "17pyKzr6Mj0C"
      },
      "source": [
        "Let us visualize this similarity matrix. The similarity of each word with other words in words is displayed as a pandas dataframe and as a heatmap"
      ]
    },
    {
      "cell_type": "code",
      "execution_count": null,
      "metadata": {
        "id": "nSJfZZooRnyj",
        "colab": {
          "base_uri": "https://localhost:8080/",
          "height": 390
        },
        "outputId": "3e5d6b86-47d4-4f6a-8d47-85300ef9567d"
      },
      "outputs": [
        {
          "output_type": "execute_result",
          "data": {
            "text/plain": [
              "              king     queen     river     water     ocean      tree  \\\n",
              "king      0.000000  0.264550  0.255218  0.105012  0.194897  0.114582   \n",
              "queen     0.264550  0.000000  0.090150  0.070809  0.119552  0.128875   \n",
              "river     0.255218  0.090150  0.000000  0.193964  0.007383  0.014870   \n",
              "water     0.105012  0.070809  0.193964  0.000000 -0.028643 -0.019268   \n",
              "ocean     0.194897  0.119552  0.007383 -0.028643  0.000000  0.141951   \n",
              "tree      0.114582  0.128875  0.014870 -0.019268  0.141951  0.000000   \n",
              "plant     0.162829  0.227686  0.197961  0.097908  0.227622  0.076433   \n",
              "happy     0.102379 -0.015477  0.022034  0.120729  0.159119  0.128356   \n",
              "glad      0.144892  0.237828  0.093549  0.013731 -0.051641 -0.049875   \n",
              "mother    0.052716 -0.148219 -0.126403 -0.052386  0.044650  0.172704   \n",
              "daughter  0.038841  0.065345  0.096387  0.093679  0.004682 -0.053449   \n",
              "\n",
              "             plant     happy      glad    mother  daughter  \n",
              "king      0.162829  0.102379  0.144892  0.052716  0.038841  \n",
              "queen     0.227686 -0.015477  0.237828 -0.148219  0.065345  \n",
              "river     0.197961  0.022034  0.093549 -0.126403  0.096387  \n",
              "water     0.097908  0.120729  0.013731 -0.052386  0.093679  \n",
              "ocean     0.227622  0.159119 -0.051641  0.044650  0.004682  \n",
              "tree      0.076433  0.128356 -0.049875  0.172704 -0.053449  \n",
              "plant     0.000000  0.037793 -0.086272 -0.037325  0.066239  \n",
              "happy     0.037793  0.000000  0.084816 -0.064062 -0.018429  \n",
              "glad     -0.086272  0.084816  0.000000 -0.074599  0.125532  \n",
              "mother   -0.037325 -0.064062 -0.074599  0.000000 -0.099623  \n",
              "daughter  0.066239 -0.018429  0.125532 -0.099623  0.000000  "
            ],
            "text/html": [
              "\n",
              "  <div id=\"df-521ffdb2-55eb-4f6a-ad67-406aa868883f\" class=\"colab-df-container\">\n",
              "    <div>\n",
              "<style scoped>\n",
              "    .dataframe tbody tr th:only-of-type {\n",
              "        vertical-align: middle;\n",
              "    }\n",
              "\n",
              "    .dataframe tbody tr th {\n",
              "        vertical-align: top;\n",
              "    }\n",
              "\n",
              "    .dataframe thead th {\n",
              "        text-align: right;\n",
              "    }\n",
              "</style>\n",
              "<table border=\"1\" class=\"dataframe\">\n",
              "  <thead>\n",
              "    <tr style=\"text-align: right;\">\n",
              "      <th></th>\n",
              "      <th>king</th>\n",
              "      <th>queen</th>\n",
              "      <th>river</th>\n",
              "      <th>water</th>\n",
              "      <th>ocean</th>\n",
              "      <th>tree</th>\n",
              "      <th>plant</th>\n",
              "      <th>happy</th>\n",
              "      <th>glad</th>\n",
              "      <th>mother</th>\n",
              "      <th>daughter</th>\n",
              "    </tr>\n",
              "  </thead>\n",
              "  <tbody>\n",
              "    <tr>\n",
              "      <th>king</th>\n",
              "      <td>0.000000</td>\n",
              "      <td>0.264550</td>\n",
              "      <td>0.255218</td>\n",
              "      <td>0.105012</td>\n",
              "      <td>0.194897</td>\n",
              "      <td>0.114582</td>\n",
              "      <td>0.162829</td>\n",
              "      <td>0.102379</td>\n",
              "      <td>0.144892</td>\n",
              "      <td>0.052716</td>\n",
              "      <td>0.038841</td>\n",
              "    </tr>\n",
              "    <tr>\n",
              "      <th>queen</th>\n",
              "      <td>0.264550</td>\n",
              "      <td>0.000000</td>\n",
              "      <td>0.090150</td>\n",
              "      <td>0.070809</td>\n",
              "      <td>0.119552</td>\n",
              "      <td>0.128875</td>\n",
              "      <td>0.227686</td>\n",
              "      <td>-0.015477</td>\n",
              "      <td>0.237828</td>\n",
              "      <td>-0.148219</td>\n",
              "      <td>0.065345</td>\n",
              "    </tr>\n",
              "    <tr>\n",
              "      <th>river</th>\n",
              "      <td>0.255218</td>\n",
              "      <td>0.090150</td>\n",
              "      <td>0.000000</td>\n",
              "      <td>0.193964</td>\n",
              "      <td>0.007383</td>\n",
              "      <td>0.014870</td>\n",
              "      <td>0.197961</td>\n",
              "      <td>0.022034</td>\n",
              "      <td>0.093549</td>\n",
              "      <td>-0.126403</td>\n",
              "      <td>0.096387</td>\n",
              "    </tr>\n",
              "    <tr>\n",
              "      <th>water</th>\n",
              "      <td>0.105012</td>\n",
              "      <td>0.070809</td>\n",
              "      <td>0.193964</td>\n",
              "      <td>0.000000</td>\n",
              "      <td>-0.028643</td>\n",
              "      <td>-0.019268</td>\n",
              "      <td>0.097908</td>\n",
              "      <td>0.120729</td>\n",
              "      <td>0.013731</td>\n",
              "      <td>-0.052386</td>\n",
              "      <td>0.093679</td>\n",
              "    </tr>\n",
              "    <tr>\n",
              "      <th>ocean</th>\n",
              "      <td>0.194897</td>\n",
              "      <td>0.119552</td>\n",
              "      <td>0.007383</td>\n",
              "      <td>-0.028643</td>\n",
              "      <td>0.000000</td>\n",
              "      <td>0.141951</td>\n",
              "      <td>0.227622</td>\n",
              "      <td>0.159119</td>\n",
              "      <td>-0.051641</td>\n",
              "      <td>0.044650</td>\n",
              "      <td>0.004682</td>\n",
              "    </tr>\n",
              "    <tr>\n",
              "      <th>tree</th>\n",
              "      <td>0.114582</td>\n",
              "      <td>0.128875</td>\n",
              "      <td>0.014870</td>\n",
              "      <td>-0.019268</td>\n",
              "      <td>0.141951</td>\n",
              "      <td>0.000000</td>\n",
              "      <td>0.076433</td>\n",
              "      <td>0.128356</td>\n",
              "      <td>-0.049875</td>\n",
              "      <td>0.172704</td>\n",
              "      <td>-0.053449</td>\n",
              "    </tr>\n",
              "    <tr>\n",
              "      <th>plant</th>\n",
              "      <td>0.162829</td>\n",
              "      <td>0.227686</td>\n",
              "      <td>0.197961</td>\n",
              "      <td>0.097908</td>\n",
              "      <td>0.227622</td>\n",
              "      <td>0.076433</td>\n",
              "      <td>0.000000</td>\n",
              "      <td>0.037793</td>\n",
              "      <td>-0.086272</td>\n",
              "      <td>-0.037325</td>\n",
              "      <td>0.066239</td>\n",
              "    </tr>\n",
              "    <tr>\n",
              "      <th>happy</th>\n",
              "      <td>0.102379</td>\n",
              "      <td>-0.015477</td>\n",
              "      <td>0.022034</td>\n",
              "      <td>0.120729</td>\n",
              "      <td>0.159119</td>\n",
              "      <td>0.128356</td>\n",
              "      <td>0.037793</td>\n",
              "      <td>0.000000</td>\n",
              "      <td>0.084816</td>\n",
              "      <td>-0.064062</td>\n",
              "      <td>-0.018429</td>\n",
              "    </tr>\n",
              "    <tr>\n",
              "      <th>glad</th>\n",
              "      <td>0.144892</td>\n",
              "      <td>0.237828</td>\n",
              "      <td>0.093549</td>\n",
              "      <td>0.013731</td>\n",
              "      <td>-0.051641</td>\n",
              "      <td>-0.049875</td>\n",
              "      <td>-0.086272</td>\n",
              "      <td>0.084816</td>\n",
              "      <td>0.000000</td>\n",
              "      <td>-0.074599</td>\n",
              "      <td>0.125532</td>\n",
              "    </tr>\n",
              "    <tr>\n",
              "      <th>mother</th>\n",
              "      <td>0.052716</td>\n",
              "      <td>-0.148219</td>\n",
              "      <td>-0.126403</td>\n",
              "      <td>-0.052386</td>\n",
              "      <td>0.044650</td>\n",
              "      <td>0.172704</td>\n",
              "      <td>-0.037325</td>\n",
              "      <td>-0.064062</td>\n",
              "      <td>-0.074599</td>\n",
              "      <td>0.000000</td>\n",
              "      <td>-0.099623</td>\n",
              "    </tr>\n",
              "    <tr>\n",
              "      <th>daughter</th>\n",
              "      <td>0.038841</td>\n",
              "      <td>0.065345</td>\n",
              "      <td>0.096387</td>\n",
              "      <td>0.093679</td>\n",
              "      <td>0.004682</td>\n",
              "      <td>-0.053449</td>\n",
              "      <td>0.066239</td>\n",
              "      <td>-0.018429</td>\n",
              "      <td>0.125532</td>\n",
              "      <td>-0.099623</td>\n",
              "      <td>0.000000</td>\n",
              "    </tr>\n",
              "  </tbody>\n",
              "</table>\n",
              "</div>\n",
              "    <div class=\"colab-df-buttons\">\n",
              "\n",
              "  <div class=\"colab-df-container\">\n",
              "    <button class=\"colab-df-convert\" onclick=\"convertToInteractive('df-521ffdb2-55eb-4f6a-ad67-406aa868883f')\"\n",
              "            title=\"Convert this dataframe to an interactive table.\"\n",
              "            style=\"display:none;\">\n",
              "\n",
              "  <svg xmlns=\"http://www.w3.org/2000/svg\" height=\"24px\" viewBox=\"0 -960 960 960\">\n",
              "    <path d=\"M120-120v-720h720v720H120Zm60-500h600v-160H180v160Zm220 220h160v-160H400v160Zm0 220h160v-160H400v160ZM180-400h160v-160H180v160Zm440 0h160v-160H620v160ZM180-180h160v-160H180v160Zm440 0h160v-160H620v160Z\"/>\n",
              "  </svg>\n",
              "    </button>\n",
              "\n",
              "  <style>\n",
              "    .colab-df-container {\n",
              "      display:flex;\n",
              "      gap: 12px;\n",
              "    }\n",
              "\n",
              "    .colab-df-convert {\n",
              "      background-color: #E8F0FE;\n",
              "      border: none;\n",
              "      border-radius: 50%;\n",
              "      cursor: pointer;\n",
              "      display: none;\n",
              "      fill: #1967D2;\n",
              "      height: 32px;\n",
              "      padding: 0 0 0 0;\n",
              "      width: 32px;\n",
              "    }\n",
              "\n",
              "    .colab-df-convert:hover {\n",
              "      background-color: #E2EBFA;\n",
              "      box-shadow: 0px 1px 2px rgba(60, 64, 67, 0.3), 0px 1px 3px 1px rgba(60, 64, 67, 0.15);\n",
              "      fill: #174EA6;\n",
              "    }\n",
              "\n",
              "    .colab-df-buttons div {\n",
              "      margin-bottom: 4px;\n",
              "    }\n",
              "\n",
              "    [theme=dark] .colab-df-convert {\n",
              "      background-color: #3B4455;\n",
              "      fill: #D2E3FC;\n",
              "    }\n",
              "\n",
              "    [theme=dark] .colab-df-convert:hover {\n",
              "      background-color: #434B5C;\n",
              "      box-shadow: 0px 1px 3px 1px rgba(0, 0, 0, 0.15);\n",
              "      filter: drop-shadow(0px 1px 2px rgba(0, 0, 0, 0.3));\n",
              "      fill: #FFFFFF;\n",
              "    }\n",
              "  </style>\n",
              "\n",
              "    <script>\n",
              "      const buttonEl =\n",
              "        document.querySelector('#df-521ffdb2-55eb-4f6a-ad67-406aa868883f button.colab-df-convert');\n",
              "      buttonEl.style.display =\n",
              "        google.colab.kernel.accessAllowed ? 'block' : 'none';\n",
              "\n",
              "      async function convertToInteractive(key) {\n",
              "        const element = document.querySelector('#df-521ffdb2-55eb-4f6a-ad67-406aa868883f');\n",
              "        const dataTable =\n",
              "          await google.colab.kernel.invokeFunction('convertToInteractive',\n",
              "                                                    [key], {});\n",
              "        if (!dataTable) return;\n",
              "\n",
              "        const docLinkHtml = 'Like what you see? Visit the ' +\n",
              "          '<a target=\"_blank\" href=https://colab.research.google.com/notebooks/data_table.ipynb>data table notebook</a>'\n",
              "          + ' to learn more about interactive tables.';\n",
              "        element.innerHTML = '';\n",
              "        dataTable['output_type'] = 'display_data';\n",
              "        await google.colab.output.renderOutput(dataTable, element);\n",
              "        const docLink = document.createElement('div');\n",
              "        docLink.innerHTML = docLinkHtml;\n",
              "        element.appendChild(docLink);\n",
              "      }\n",
              "    </script>\n",
              "  </div>\n",
              "\n",
              "\n",
              "<div id=\"df-c92e6ba5-db5c-4338-b9ea-00b45d09284a\">\n",
              "  <button class=\"colab-df-quickchart\" onclick=\"quickchart('df-c92e6ba5-db5c-4338-b9ea-00b45d09284a')\"\n",
              "            title=\"Suggest charts\"\n",
              "            style=\"display:none;\">\n",
              "\n",
              "<svg xmlns=\"http://www.w3.org/2000/svg\" height=\"24px\"viewBox=\"0 0 24 24\"\n",
              "     width=\"24px\">\n",
              "    <g>\n",
              "        <path d=\"M19 3H5c-1.1 0-2 .9-2 2v14c0 1.1.9 2 2 2h14c1.1 0 2-.9 2-2V5c0-1.1-.9-2-2-2zM9 17H7v-7h2v7zm4 0h-2V7h2v10zm4 0h-2v-4h2v4z\"/>\n",
              "    </g>\n",
              "</svg>\n",
              "  </button>\n",
              "\n",
              "<style>\n",
              "  .colab-df-quickchart {\n",
              "      --bg-color: #E8F0FE;\n",
              "      --fill-color: #1967D2;\n",
              "      --hover-bg-color: #E2EBFA;\n",
              "      --hover-fill-color: #174EA6;\n",
              "      --disabled-fill-color: #AAA;\n",
              "      --disabled-bg-color: #DDD;\n",
              "  }\n",
              "\n",
              "  [theme=dark] .colab-df-quickchart {\n",
              "      --bg-color: #3B4455;\n",
              "      --fill-color: #D2E3FC;\n",
              "      --hover-bg-color: #434B5C;\n",
              "      --hover-fill-color: #FFFFFF;\n",
              "      --disabled-bg-color: #3B4455;\n",
              "      --disabled-fill-color: #666;\n",
              "  }\n",
              "\n",
              "  .colab-df-quickchart {\n",
              "    background-color: var(--bg-color);\n",
              "    border: none;\n",
              "    border-radius: 50%;\n",
              "    cursor: pointer;\n",
              "    display: none;\n",
              "    fill: var(--fill-color);\n",
              "    height: 32px;\n",
              "    padding: 0;\n",
              "    width: 32px;\n",
              "  }\n",
              "\n",
              "  .colab-df-quickchart:hover {\n",
              "    background-color: var(--hover-bg-color);\n",
              "    box-shadow: 0 1px 2px rgba(60, 64, 67, 0.3), 0 1px 3px 1px rgba(60, 64, 67, 0.15);\n",
              "    fill: var(--button-hover-fill-color);\n",
              "  }\n",
              "\n",
              "  .colab-df-quickchart-complete:disabled,\n",
              "  .colab-df-quickchart-complete:disabled:hover {\n",
              "    background-color: var(--disabled-bg-color);\n",
              "    fill: var(--disabled-fill-color);\n",
              "    box-shadow: none;\n",
              "  }\n",
              "\n",
              "  .colab-df-spinner {\n",
              "    border: 2px solid var(--fill-color);\n",
              "    border-color: transparent;\n",
              "    border-bottom-color: var(--fill-color);\n",
              "    animation:\n",
              "      spin 1s steps(1) infinite;\n",
              "  }\n",
              "\n",
              "  @keyframes spin {\n",
              "    0% {\n",
              "      border-color: transparent;\n",
              "      border-bottom-color: var(--fill-color);\n",
              "      border-left-color: var(--fill-color);\n",
              "    }\n",
              "    20% {\n",
              "      border-color: transparent;\n",
              "      border-left-color: var(--fill-color);\n",
              "      border-top-color: var(--fill-color);\n",
              "    }\n",
              "    30% {\n",
              "      border-color: transparent;\n",
              "      border-left-color: var(--fill-color);\n",
              "      border-top-color: var(--fill-color);\n",
              "      border-right-color: var(--fill-color);\n",
              "    }\n",
              "    40% {\n",
              "      border-color: transparent;\n",
              "      border-right-color: var(--fill-color);\n",
              "      border-top-color: var(--fill-color);\n",
              "    }\n",
              "    60% {\n",
              "      border-color: transparent;\n",
              "      border-right-color: var(--fill-color);\n",
              "    }\n",
              "    80% {\n",
              "      border-color: transparent;\n",
              "      border-right-color: var(--fill-color);\n",
              "      border-bottom-color: var(--fill-color);\n",
              "    }\n",
              "    90% {\n",
              "      border-color: transparent;\n",
              "      border-bottom-color: var(--fill-color);\n",
              "    }\n",
              "  }\n",
              "</style>\n",
              "\n",
              "  <script>\n",
              "    async function quickchart(key) {\n",
              "      const quickchartButtonEl =\n",
              "        document.querySelector('#' + key + ' button');\n",
              "      quickchartButtonEl.disabled = true;  // To prevent multiple clicks.\n",
              "      quickchartButtonEl.classList.add('colab-df-spinner');\n",
              "      try {\n",
              "        const charts = await google.colab.kernel.invokeFunction(\n",
              "            'suggestCharts', [key], {});\n",
              "      } catch (error) {\n",
              "        console.error('Error during call to suggestCharts:', error);\n",
              "      }\n",
              "      quickchartButtonEl.classList.remove('colab-df-spinner');\n",
              "      quickchartButtonEl.classList.add('colab-df-quickchart-complete');\n",
              "    }\n",
              "    (() => {\n",
              "      let quickchartButtonEl =\n",
              "        document.querySelector('#df-c92e6ba5-db5c-4338-b9ea-00b45d09284a button');\n",
              "      quickchartButtonEl.style.display =\n",
              "        google.colab.kernel.accessAllowed ? 'block' : 'none';\n",
              "    })();\n",
              "  </script>\n",
              "</div>\n",
              "\n",
              "    </div>\n",
              "  </div>\n"
            ]
          },
          "metadata": {},
          "execution_count": 149
        }
      ],
      "source": [
        "pd.DataFrame(w2v_similarity, columns = words, index = words)"
      ]
    },
    {
      "cell_type": "code",
      "execution_count": null,
      "metadata": {
        "id": "Ij4_ZcQXRreX",
        "colab": {
          "base_uri": "https://localhost:8080/",
          "height": 496
        },
        "outputId": "c1a8fa7c-ae15-4f25-9e50-be97184d48eb"
      },
      "outputs": [
        {
          "output_type": "execute_result",
          "data": {
            "text/plain": [
              "<Axes: >"
            ]
          },
          "metadata": {},
          "execution_count": 150
        },
        {
          "output_type": "display_data",
          "data": {
            "text/plain": [
              "<Figure size 640x480 with 2 Axes>"
            ],
            "image/png": "[encoded data removed]"
          },
          "metadata": {}
        }
      ],
      "source": [
        "sns.heatmap(pd.DataFrame(w2v_similarity, columns = words, index = words))"
      ]
    },
    {
      "cell_type": "markdown",
      "metadata": {
        "id": "Rf2uAwtcMqbw"
      },
      "source": [
        "The size of the words embedding are reduced to to 2D and displayed as a scatterplot for analysis"
      ]
    },
    {
      "cell_type": "code",
      "execution_count": null,
      "metadata": {
        "id": "rreLCMaFMy2j"
      },
      "outputs": [],
      "source": [
        "# Create a 2-dimensional PCA model of the word vectors using the scikit-learn PCA class\n",
        "# n_components in PCA specifies the no.of dimensions\n",
        "pca = PCA(n_components=2)\n",
        "\n",
        "# Fit and transform the vectors using PCA model\n",
        "reduced_w2v = pca.fit_transform(list(word2vec.values()))"
      ]
    },
    {
      "cell_type": "code",
      "execution_count": null,
      "metadata": {
        "id": "afDWd7jIM9ua",
        "colab": {
          "base_uri": "https://localhost:8080/",
          "height": 451
        },
        "outputId": "57d9b76a-8b92-44e6-87f9-f6817bc95295"
      },
      "outputs": [
        {
          "output_type": "display_data",
          "data": {
            "text/plain": [
              "<Figure size 800x500 with 1 Axes>"
            ],
            "image/png": "[encoded data removed]"
          },
          "metadata": {}
        }
      ],
      "source": [
        "plt.figure(figsize=(8,5))\n",
        "plt.scatter(reduced_w2v[:,0],reduced_w2v[:,1], s = 12, color = 'red')\n",
        "plt.xlim([-2,2])\n",
        "plt.ylim([-2,2])\n",
        "x, y = reduced_w2v[:,0] , reduced_w2v[:,1]\n",
        "offset = 0.5\n",
        "for i in range(len(x)):\n",
        "    label = words[i]\n",
        "    xi, yi = x[i], y[i]\n",
        "    plt.annotate(label, (xi, yi), xytext=(xi + offset, yi + offset),\n",
        "                 textcoords='offset points', ha='center', va='center')\n",
        "\n",
        "plt.savefig(\"word_similarity.png\")"
      ]
    },
    {
      "cell_type": "markdown",
      "metadata": {
        "id": "UzeJlRHkNE1k"
      },
      "source": [
        "The 10 most similar word to the given word is calculated in the following code blocks"
      ]
    },
    {
      "cell_type": "code",
      "execution_count": null,
      "metadata": {
        "id": "PEEH4cTjcDWu"
      },
      "outputs": [],
      "source": [
        "def get_top_similar(word: str, topN: int = 10):\n",
        "    \"\"\"\n",
        "    This function calculates the topN words similar to the input word.\n",
        "    If the word is not in vocabulary, then similarity is not calculated.\n",
        "    If the word is in the vocabulary, then the dot product of the embedding\n",
        "    matrix and the word vector is calculated. The topN words are selected.\n",
        "    \"\"\"\n",
        "    if word not in vocab:\n",
        "        print(\"Out of vocabulary word\")\n",
        "        return\n",
        "\n",
        "    word_id = vocab[word]\n",
        "    word_vec = model['embeddings.weight'][word_id].cpu().numpy()\n",
        "    word_vec = np.reshape(word_vec, (len(word_vec), 1))\n",
        "\n",
        "    dists = np.dot(model['embeddings.weight'].cpu().numpy(), word_vec).flatten()\n",
        "    topN_ids = np.argsort(-dists)[1 : topN + 1]\n",
        "\n",
        "    topN_dict = {}\n",
        "    for sim_word_id in topN_ids:\n",
        "        sim_word = vocab.lookup_token(sim_word_id)\n",
        "        topN_dict[sim_word] = dists[sim_word_id]\n",
        "\n",
        "    return topN_dict"
      ]
    },
    {
      "cell_type": "code",
      "execution_count": null,
      "metadata": {
        "id": "HYZoJ2ukc3Vy"
      },
      "outputs": [],
      "source": [
        "for word, sim in get_top_similar(\"india\").items():\n",
        "   print(\"EVALUATION: most similar words to {}: {:.3f}\".format(word, sim))"
      ]
    },
    {
      "cell_type": "markdown",
      "metadata": {
        "id": "uUtV2AKrNhdQ"
      },
      "source": [
        "### Analogy Tests\n",
        "\n",
        "Analogy tests include questions of the format a:b::x:?, such tests are used to intrinsically evaluate the quality of word vectors.\n",
        "\n",
        "Here's one example."
      ]
    },
    {
      "cell_type": "code",
      "execution_count": null,
      "metadata": {
        "id": "Q7XCS02vc5vz",
        "colab": {
          "base_uri": "https://localhost:8080/"
        },
        "outputId": "a21f7f14-eda2-4a31-a06b-d685ab677a7a"
      },
      "outputs": [
        {
          "output_type": "stream",
          "name": "stdout",
          "text": [
            "king: 12.614\n",
            "control: 3.903\n",
            "brigade: 3.674\n",
            "troops: 3.613\n",
            "named: 3.466\n"
          ]
        }
      ],
      "source": [
        "def get_analogy(word_1, word_2, word_3):\n",
        "    \"\"\"\n",
        "    top 5 most analogous vector calculated correspond to a set similar to\n",
        "    man: woman :: king: ? . This is calculated similar to the above case.\n",
        "    \"\"\"\n",
        "\n",
        "    emb1 = model['embeddings.weight'][vocab[word_1]].cpu().numpy()\n",
        "    emb2 = model['embeddings.weight'][vocab[word_2]].cpu().numpy()\n",
        "    emb3 = model['embeddings.weight'][vocab[word_3]].cpu().numpy()\n",
        "\n",
        "    emb4 = emb1 - emb2 + emb3\n",
        "\n",
        "    # compute dot products between 'emb4' and all word embeddings in the model.\n",
        "    emb4 = np.reshape(emb4, (len(emb4), 1))\n",
        "    dot_product = np.dot(model['embeddings.weight'].cpu().numpy(), emb4).flatten()\n",
        "\n",
        "    top5 = np.argsort(-dot_product)[:5]\n",
        "\n",
        "    return top5, dot_product\n",
        "\n",
        "top5_analogy, dot_product = get_analogy('king', 'man', 'woman')\n",
        "\n",
        "for word_id in top5_analogy:\n",
        "    print(\"{}: {:.3f}\".format(vocab.lookup_token(word_id), dot_product[word_id]))\n"
      ]
    },
    {
      "cell_type": "markdown",
      "metadata": {
        "id": "vJpc8HIuNmLt"
      },
      "source": [
        "The model performance will be evaluated based on an analogy output for the top 5 words. The following code will used to evaluate the performance of the model on the analogies dataset. We will measure how often the correct answer is a part of the top 5 options."
      ]
    },
    {
      "cell_type": "code",
      "execution_count": null,
      "metadata": {
        "id": "qEE6woybfDTi",
        "colab": {
          "base_uri": "https://localhost:8080/"
        },
        "outputId": "237f4b85-70b8-4112-d020-4e6b72101a06"
      },
      "outputs": [
        {
          "output_type": "stream",
          "name": "stdout",
          "text": [
            "--2024-02-05 13:46:57--  https://drive.google.com/uc?export=download&id=1jHx25dECegjtRKBB587nEfHiJesrH0g2\n",
            "Resolving drive.google.com (drive.google.com)... 142.251.175.138, 142.251.175.100, 142.251.175.101, ...\n",
            "Connecting to drive.google.com (drive.google.com)|142.251.175.138|:443... connected.\n",
            "HTTP request sent, awaiting response... 303 See Other\n",
            "Location: https://drive.usercontent.google.com/download?id=1jHx25dECegjtRKBB587nEfHiJesrH0g2&export=download [following]\n",
            "--2024-02-05 13:46:58--  https://drive.usercontent.google.com/download?id=1jHx25dECegjtRKBB587nEfHiJesrH0g2&export=download\n",
            "Resolving drive.usercontent.google.com (drive.usercontent.google.com)... 64.233.170.132, 2404:6800:4003:c1a::84\n",
            "Connecting to drive.usercontent.google.com (drive.usercontent.google.com)|64.233.170.132|:443... connected.\n",
            "HTTP request sent, awaiting response... 200 OK\n",
            "Length: 286075 (279K) [application/octet-stream]\n",
            "Saving to: ‘analogies.txt’\n",
            "\n",
            "analogies.txt       100%[===================>] 279.37K  --.-KB/s    in 0.003s  \n",
            "\n",
            "2024-02-05 13:46:58 (83.6 MB/s) - ‘analogies.txt’ saved [286075/286075]\n",
            "\n"
          ]
        }
      ],
      "source": [
        "# Downloading the file containing a few analogies.\n",
        "# We will change the contents of this file while testing.\n",
        "\n",
        "!wget -O analogies.txt \"https://drive.google.com/uc?export=download&id=1jHx25dECegjtRKBB587nEfHiJesrH0g2\""
      ]
    },
    {
      "cell_type": "code",
      "execution_count": null,
      "metadata": {
        "id": "08o4HkrHfKiM"
      },
      "outputs": [],
      "source": [
        "import random\n",
        "random.seed(42)\n",
        "\n",
        "def load_and_sample_analogies(file_path, sample_size=5000):\n",
        "    with open(file_path, 'r') as file:\n",
        "        analogies = []\n",
        "        for line in file:\n",
        "            # Split the line into words and ensure it has exactly 4 elements\n",
        "            parts = line.strip().split()\n",
        "            if len(parts) == 4:\n",
        "                analogies.append(parts)\n",
        "\n",
        "        # Sample analogies\n",
        "        sampled_analogies = random.sample(analogies, min(sample_size, len(analogies)))\n",
        "        return sampled_analogies\n",
        "\n",
        "# Path to your text file\n",
        "# NOTE: analogies used for grading could be slightly different\n",
        "file_path = '/content/analogies.txt'\n",
        "\n",
        "# Load and sample analogies\n",
        "sampled_analogy_dataset = load_and_sample_analogies(file_path)"
      ]
    },
    {
      "cell_type": "code",
      "execution_count": null,
      "metadata": {
        "id": "YPCtOd8IfN0i",
        "colab": {
          "base_uri": "https://localhost:8080/"
        },
        "outputId": "36a324cf-d6fb-4152-f883-3ab9de143a69"
      },
      "outputs": [
        {
          "output_type": "stream",
          "name": "stdout",
          "text": [
            "EVALUATION: Precision at 5 for the analogy test is 0.1111111111111111\n"
          ]
        }
      ],
      "source": [
        "def get_word_id(word, vocab):\n",
        "    \"\"\"check for out of vocabulary items\"\"\"\n",
        "    return vocab[word] if word in vocab else 0\n",
        "\n",
        "def analogy_score(analogy_dataset):\n",
        "    \"\"\"\n",
        "    The top5 analogous words calculated for each set of words for your\n",
        "    implementation of word2vec and compared with an existing dataset to\n",
        "    calculate if the expected word is in the first 5 predictions.\n",
        "    \"\"\"\n",
        "\n",
        "    correct = 0\n",
        "    total = 0\n",
        "\n",
        "    for a, b, c, d in analogy_dataset:\n",
        "        # Convert words to lowercase\n",
        "        a, b, c, d = a.lower(), b.lower(), c.lower(), d.lower()\n",
        "\n",
        "        # Check if any word is out of vocabulary\n",
        "        if 0 in [get_word_id(word, vocab) for word in [a, b, c, d]]:\n",
        "            continue\n",
        "\n",
        "        #finding the first five words that are analogous to the given set\n",
        "        top5_analogy, dot_product = get_analogy(c, a, b)\n",
        "\n",
        "        predicted_words = []\n",
        "\n",
        "        for word_id in top5_analogy:\n",
        "            word = vocab.lookup_token(word_id)\n",
        "            predicted_words.append(word)\n",
        "\n",
        "        if d in predicted_words:\n",
        "            correct += 1\n",
        "\n",
        "        total += 1\n",
        "    precision_at_5 = correct / total if total > 0 else 0\n",
        "    return precision_at_5\n",
        "\n",
        "precision_at_5 = analogy_score(sampled_analogy_dataset)\n",
        "print(\"EVALUATION: Precision at 5 for the analogy test is\", precision_at_5)"
      ]
    },
    {
      "cell_type": "markdown",
      "metadata": {
        "id": "yc4HDnCsOuBV"
      },
      "source": [
        "#### Google's word2vec for comparison\n",
        "\n",
        "In the following code blocks, the pretained word2vec developed by Google is used to analyze the quality of the embedding. The word2vec model can be downloaded from [here](https://drive.google.com/file/d/0B7XkCwpI5KDYNlNUTTlSS21pQmM/edit?usp=sharing)."
      ]
    },
    {
      "cell_type": "code",
      "execution_count": null,
      "metadata": {
        "id": "nNR75UeBfceN",
        "colab": {
          "base_uri": "https://localhost:8080/"
        },
        "outputId": "d7d3de14-8ae1-4a9c-d776-f6f623f5cee6"
      },
      "outputs": [
        {
          "output_type": "stream",
          "name": "stdout",
          "text": [
            "--2024-02-05 13:32:28--  https://drive.google.com/uc?export=download&id=12Oicgl5scdJLR7t8jbzKpW6o8QkYOylg\n",
            "Resolving drive.google.com (drive.google.com)... 74.125.24.101, 74.125.24.138, 74.125.24.100, ...\n",
            "Connecting to drive.google.com (drive.google.com)|74.125.24.101|:443... connected.\n",
            "HTTP request sent, awaiting response... 303 See Other\n",
            "Location: https://drive.usercontent.google.com/download?id=12Oicgl5scdJLR7t8jbzKpW6o8QkYOylg&export=download [following]\n",
            "--2024-02-05 13:32:28--  https://drive.usercontent.google.com/download?id=12Oicgl5scdJLR7t8jbzKpW6o8QkYOylg&export=download\n",
            "Resolving drive.usercontent.google.com (drive.usercontent.google.com)... 64.233.170.132, 2404:6800:4003:c1a::84\n",
            "Connecting to drive.usercontent.google.com (drive.usercontent.google.com)|64.233.170.132|:443... connected.\n",
            "HTTP request sent, awaiting response... 200 OK\n",
            "Length: 2446 (2.4K) [text/html]\n",
            "Saving to: ‘GoogleNews-vectors-negative300.bin’\n",
            "\n",
            "GoogleNews-vectors- 100%[===================>]   2.39K  --.-KB/s    in 0s      \n",
            "\n",
            "2024-02-05 13:32:29 (32.3 MB/s) - ‘GoogleNews-vectors-negative300.bin’ saved [2446/2446]\n",
            "\n"
          ]
        }
      ],
      "source": [
        "!wget -O GoogleNews-vectors-negative300.bin \"https://drive.google.com/uc?export=download&id=12Oicgl5scdJLR7t8jbzKpW6o8QkYOylg\""
      ]
    },
    {
      "cell_type": "code",
      "execution_count": null,
      "metadata": {
        "id": "2ymtJfkhfvfI",
        "colab": {
          "base_uri": "https://localhost:8080/",
          "height": 66,
          "referenced_widgets": [
            "a52261af048543b0a30384b4c61e9a76",
            "4ab6a87cf5d842c4b149d062c622d566",
            "30151c2cc5994d92a9153405e96f98f7",
            "188c8a11f2fa4cee8b75593b697926e7",
            "abf35d5e2723471887ac6a38a08fc0bd",
            "9526f2e1120b436a824c2b0f9422b25e",
            "e5af380e4151413c82c4834149bc2377",
            "00e35e994b5248b5a6b6e8f9c6dc7c87",
            "d34bd98952694e6ebed999a714de5d16",
            "37076c236e2149ce976e874cad08f8f8",
            "093ec71be50446ff9d6fefcb952d758f"
          ]
        },
        "outputId": "8d6ebbb3-63f4-4f13-9ee3-4c77e2fd92d7"
      },
      "outputs": [
        {
          "output_type": "display_data",
          "data": {
            "text/plain": [
              "  0%|          | 0.00/3.39G [00:00<?, ?B/s]"
            ],
            "application/vnd.jupyter.widget-view+json": {
              "version_major": 2,
              "version_minor": 0,
              "model_id": "a52261af048543b0a30384b4c61e9a76"
            }
          },
          "metadata": {}
        },
        {
          "output_type": "stream",
          "name": "stdout",
          "text": [
            "Downloaded to /content/GoogleNews-vectors-negative300.bin\n"
          ]
        }
      ],
      "source": [
        "import bs4\n",
        "import requests\n",
        "import tqdm.auto as tqdm\n",
        "\n",
        "def download_from_drive(drive_link, target_path):\n",
        "    response = requests.get(drive_link, stream=True)\n",
        "    response.raise_for_status()\n",
        "    if 'html' in response.headers['Content-Type']:\n",
        "        response = requests.get(drive_link)\n",
        "        response.raise_for_status()\n",
        "        page = bs4.BeautifulSoup(response.text, features=\"lxml\")\n",
        "        if form := page.find('form', id='download-form'):\n",
        "            id   = form.select_one(\"input[name='id']\")['value']\n",
        "            uuid = form.select_one(\"input[name='uuid']\")['value']\n",
        "            data = { 'confirm': 't', 'export': 'download', 'id': id, 'uuid': uuid }\n",
        "            response = requests.get(page.find('form')['action'], params=data, stream=True)\n",
        "            response.raise_for_status()\n",
        "    with open(target_path, 'wb+') as file:\n",
        "        with tqdm.tqdm(\n",
        "            total=int(response.headers['Content-Length']),\n",
        "            unit='B', unit_scale=True, unit_divisor=1024\n",
        "        ) as pbar:\n",
        "            for chunk in response.iter_content(chunk_size=4096):\n",
        "                file.write(chunk)\n",
        "                pbar.update(len(chunk))\n",
        "    print(\"Downloaded to\", target_path)\n",
        "\n",
        "drive_link = \"https://drive.google.com/uc?export=download&id=12Oicgl5scdJLR7t8jbzKpW6o8QkYOylg\"\n",
        "target_path = \"/content/GoogleNews-vectors-negative300.bin\"\n",
        "\n",
        "download_from_drive(drive_link, target_path)"
      ]
    },
    {
      "cell_type": "code",
      "execution_count": null,
      "metadata": {
        "id": "DFzu2IeGfxtf"
      },
      "outputs": [],
      "source": [
        "import gensim\n",
        "\n",
        "# Load Google news 300 vectors file\n",
        "model = gensim.models.KeyedVectors.load_word2vec_format('/content/drive/MyDrive/GoogleNews-vectors-negative300.bin', binary=True, limit=500000)"
      ]
    },
    {
      "cell_type": "code",
      "execution_count": null,
      "metadata": {
        "id": "f3VkniLbf0s1"
      },
      "outputs": [],
      "source": [
        "# List of words to plot the embeddings\n",
        "words = ['king', 'queen', 'river', 'water', 'ocean', 'tree', 'plant', 'happy', 'glad', 'mother', 'daughter']"
      ]
    },
    {
      "cell_type": "markdown",
      "metadata": {
        "id": "mPKcE72YQIS3"
      },
      "source": [
        "> **Write a code to find the similarity of the each word in words with eachother using original word2vec**"
      ]
    },
    {
      "cell_type": "code",
      "execution_count": null,
      "metadata": {
        "id": "u1lmFifWQf04"
      },
      "outputs": [],
      "source": [
        "def get_word_similarity(words, model):\n",
        "    \"\"\"\n",
        "    This function takes the words and a word2vec model as input and outputs the word vectors\n",
        "    corresponding to the words and the similarity of every word with each other.\n",
        "    \"\"\"\n",
        "  # ADD YOUR CODE HERE\n",
        "\n",
        "  # you'll have to compute the similarity matrix for the words given above\n",
        "\n",
        "    word2vec = {}\n",
        "    for word in words:\n",
        "        if word in model:\n",
        "            word2vec[word] = model[word]\n",
        "\n",
        "    w2v_similarity = np.zeros((len(word2vec), len(word2vec)))\n",
        "\n",
        "    for i, word1 in enumerate(word2vec.keys()):\n",
        "        for j, word2 in enumerate(word2vec.keys()):\n",
        "            if i != j:\n",
        "                vec1 = word2vec[word1]\n",
        "                vec2 = word2vec[word2]\n",
        "                similarity = np.dot(vec1, vec2) / (np.linalg.norm(vec1) * np.linalg.norm(vec2))\n",
        "                w2v_similarity[i][j] = similarity\n",
        "\n",
        "    return word2vec, w2v_similarity\n",
        "\n",
        "word2vec, w2v_similarity = get_word_similarity(words, model)"
      ]
    },
    {
      "cell_type": "code",
      "execution_count": null,
      "metadata": {
        "id": "ats78BccReju",
        "colab": {
          "base_uri": "https://localhost:8080/",
          "height": 390
        },
        "outputId": "16c3c571-61d9-4a1d-fdd1-985e4ace4f8e"
      },
      "outputs": [
        {
          "output_type": "execute_result",
          "data": {
            "text/plain": [
              "              king     queen     river     water     ocean      tree  \\\n",
              "king      0.000000  0.651096  0.086155  0.035606  0.065263  0.109141   \n",
              "queen     0.651096  0.000000  0.103566  0.018264  0.099157  0.112222   \n",
              "river     0.086155  0.103566  0.000000  0.576898  0.477181  0.230746   \n",
              "water     0.035606  0.018264  0.576898  0.000000  0.471691  0.196022   \n",
              "ocean     0.065263  0.099157  0.477181  0.471691  0.000000  0.141859   \n",
              "tree      0.109141  0.112222  0.230746  0.196022  0.141859  0.000000   \n",
              "plant     0.057788  0.088803  0.201330  0.271738  0.067005  0.265187   \n",
              "happy     0.113239  0.121214  0.073289  0.067675 -0.000511  0.076933   \n",
              "glad      0.063524  0.082538  0.071341  0.085623  0.014122  0.105760   \n",
              "mother    0.160052  0.288445  0.131063  0.110723  0.105623  0.188985   \n",
              "daughter  0.148813  0.305139  0.116944  0.079457  0.081207  0.173518   \n",
              "\n",
              "             plant     happy      glad    mother  daughter  \n",
              "king      0.057788  0.113239  0.063524  0.160052  0.148813  \n",
              "queen     0.088803  0.121214  0.082538  0.288445  0.305139  \n",
              "river     0.201330  0.073289  0.071341  0.131063  0.116944  \n",
              "water     0.271738  0.067675  0.085623  0.110723  0.079457  \n",
              "ocean     0.067005 -0.000511  0.014122  0.105623  0.081207  \n",
              "tree      0.265187  0.076933  0.105760  0.188985  0.173518  \n",
              "plant     0.000000 -0.010519 -0.000679  0.148805  0.092466  \n",
              "happy    -0.010519  0.000000  0.740889  0.119672  0.152536  \n",
              "glad     -0.000679  0.740889  0.000000  0.125566  0.181102  \n",
              "mother    0.148805  0.119672  0.125566  0.000000  0.870623  \n",
              "daughter  0.092466  0.152536  0.181102  0.870623  0.000000  "
            ],
            "text/html": [
              "\n",
              "  <div id=\"df-c6023e47-c707-4f81-a94c-7530fc29b263\" class=\"colab-df-container\">\n",
              "    <div>\n",
              "<style scoped>\n",
              "    .dataframe tbody tr th:only-of-type {\n",
              "        vertical-align: middle;\n",
              "    }\n",
              "\n",
              "    .dataframe tbody tr th {\n",
              "        vertical-align: top;\n",
              "    }\n",
              "\n",
              "    .dataframe thead th {\n",
              "        text-align: right;\n",
              "    }\n",
              "</style>\n",
              "<table border=\"1\" class=\"dataframe\">\n",
              "  <thead>\n",
              "    <tr style=\"text-align: right;\">\n",
              "      <th></th>\n",
              "      <th>king</th>\n",
              "      <th>queen</th>\n",
              "      <th>river</th>\n",
              "      <th>water</th>\n",
              "      <th>ocean</th>\n",
              "      <th>tree</th>\n",
              "      <th>plant</th>\n",
              "      <th>happy</th>\n",
              "      <th>glad</th>\n",
              "      <th>mother</th>\n",
              "      <th>daughter</th>\n",
              "    </tr>\n",
              "  </thead>\n",
              "  <tbody>\n",
              "    <tr>\n",
              "      <th>king</th>\n",
              "      <td>0.000000</td>\n",
              "      <td>0.651096</td>\n",
              "      <td>0.086155</td>\n",
              "      <td>0.035606</td>\n",
              "      <td>0.065263</td>\n",
              "      <td>0.109141</td>\n",
              "      <td>0.057788</td>\n",
              "      <td>0.113239</td>\n",
              "      <td>0.063524</td>\n",
              "      <td>0.160052</td>\n",
              "      <td>0.148813</td>\n",
              "    </tr>\n",
              "    <tr>\n",
              "      <th>queen</th>\n",
              "      <td>0.651096</td>\n",
              "      <td>0.000000</td>\n",
              "      <td>0.103566</td>\n",
              "      <td>0.018264</td>\n",
              "      <td>0.099157</td>\n",
              "      <td>0.112222</td>\n",
              "      <td>0.088803</td>\n",
              "      <td>0.121214</td>\n",
              "      <td>0.082538</td>\n",
              "      <td>0.288445</td>\n",
              "      <td>0.305139</td>\n",
              "    </tr>\n",
              "    <tr>\n",
              "      <th>river</th>\n",
              "      <td>0.086155</td>\n",
              "      <td>0.103566</td>\n",
              "      <td>0.000000</td>\n",
              "      <td>0.576898</td>\n",
              "      <td>0.477181</td>\n",
              "      <td>0.230746</td>\n",
              "      <td>0.201330</td>\n",
              "      <td>0.073289</td>\n",
              "      <td>0.071341</td>\n",
              "      <td>0.131063</td>\n",
              "      <td>0.116944</td>\n",
              "    </tr>\n",
              "    <tr>\n",
              "      <th>water</th>\n",
              "      <td>0.035606</td>\n",
              "      <td>0.018264</td>\n",
              "      <td>0.576898</td>\n",
              "      <td>0.000000</td>\n",
              "      <td>0.471691</td>\n",
              "      <td>0.196022</td>\n",
              "      <td>0.271738</td>\n",
              "      <td>0.067675</td>\n",
              "      <td>0.085623</td>\n",
              "      <td>0.110723</td>\n",
              "      <td>0.079457</td>\n",
              "    </tr>\n",
              "    <tr>\n",
              "      <th>ocean</th>\n",
              "      <td>0.065263</td>\n",
              "      <td>0.099157</td>\n",
              "      <td>0.477181</td>\n",
              "      <td>0.471691</td>\n",
              "      <td>0.000000</td>\n",
              "      <td>0.141859</td>\n",
              "      <td>0.067005</td>\n",
              "      <td>-0.000511</td>\n",
              "      <td>0.014122</td>\n",
              "      <td>0.105623</td>\n",
              "      <td>0.081207</td>\n",
              "    </tr>\n",
              "    <tr>\n",
              "      <th>tree</th>\n",
              "      <td>0.109141</td>\n",
              "      <td>0.112222</td>\n",
              "      <td>0.230746</td>\n",
              "      <td>0.196022</td>\n",
              "      <td>0.141859</td>\n",
              "      <td>0.000000</td>\n",
              "      <td>0.265187</td>\n",
              "      <td>0.076933</td>\n",
              "      <td>0.105760</td>\n",
              "      <td>0.188985</td>\n",
              "      <td>0.173518</td>\n",
              "    </tr>\n",
              "    <tr>\n",
              "      <th>plant</th>\n",
              "      <td>0.057788</td>\n",
              "      <td>0.088803</td>\n",
              "      <td>0.201330</td>\n",
              "      <td>0.271738</td>\n",
              "      <td>0.067005</td>\n",
              "      <td>0.265187</td>\n",
              "      <td>0.000000</td>\n",
              "      <td>-0.010519</td>\n",
              "      <td>-0.000679</td>\n",
              "      <td>0.148805</td>\n",
              "      <td>0.092466</td>\n",
              "    </tr>\n",
              "    <tr>\n",
              "      <th>happy</th>\n",
              "      <td>0.113239</td>\n",
              "      <td>0.121214</td>\n",
              "      <td>0.073289</td>\n",
              "      <td>0.067675</td>\n",
              "      <td>-0.000511</td>\n",
              "      <td>0.076933</td>\n",
              "      <td>-0.010519</td>\n",
              "      <td>0.000000</td>\n",
              "      <td>0.740889</td>\n",
              "      <td>0.119672</td>\n",
              "      <td>0.152536</td>\n",
              "    </tr>\n",
              "    <tr>\n",
              "      <th>glad</th>\n",
              "      <td>0.063524</td>\n",
              "      <td>0.082538</td>\n",
              "      <td>0.071341</td>\n",
              "      <td>0.085623</td>\n",
              "      <td>0.014122</td>\n",
              "      <td>0.105760</td>\n",
              "      <td>-0.000679</td>\n",
              "      <td>0.740889</td>\n",
              "      <td>0.000000</td>\n",
              "      <td>0.125566</td>\n",
              "      <td>0.181102</td>\n",
              "    </tr>\n",
              "    <tr>\n",
              "      <th>mother</th>\n",
              "      <td>0.160052</td>\n",
              "      <td>0.288445</td>\n",
              "      <td>0.131063</td>\n",
              "      <td>0.110723</td>\n",
              "      <td>0.105623</td>\n",
              "      <td>0.188985</td>\n",
              "      <td>0.148805</td>\n",
              "      <td>0.119672</td>\n",
              "      <td>0.125566</td>\n",
              "      <td>0.000000</td>\n",
              "      <td>0.870623</td>\n",
              "    </tr>\n",
              "    <tr>\n",
              "      <th>daughter</th>\n",
              "      <td>0.148813</td>\n",
              "      <td>0.305139</td>\n",
              "      <td>0.116944</td>\n",
              "      <td>0.079457</td>\n",
              "      <td>0.081207</td>\n",
              "      <td>0.173518</td>\n",
              "      <td>0.092466</td>\n",
              "      <td>0.152536</td>\n",
              "      <td>0.181102</td>\n",
              "      <td>0.870623</td>\n",
              "      <td>0.000000</td>\n",
              "    </tr>\n",
              "  </tbody>\n",
              "</table>\n",
              "</div>\n",
              "    <div class=\"colab-df-buttons\">\n",
              "\n",
              "  <div class=\"colab-df-container\">\n",
              "    <button class=\"colab-df-convert\" onclick=\"convertToInteractive('df-c6023e47-c707-4f81-a94c-7530fc29b263')\"\n",
              "            title=\"Convert this dataframe to an interactive table.\"\n",
              "            style=\"display:none;\">\n",
              "\n",
              "  <svg xmlns=\"http://www.w3.org/2000/svg\" height=\"24px\" viewBox=\"0 -960 960 960\">\n",
              "    <path d=\"M120-120v-720h720v720H120Zm60-500h600v-160H180v160Zm220 220h160v-160H400v160Zm0 220h160v-160H400v160ZM180-400h160v-160H180v160Zm440 0h160v-160H620v160ZM180-180h160v-160H180v160Zm440 0h160v-160H620v160Z\"/>\n",
              "  </svg>\n",
              "    </button>\n",
              "\n",
              "  <style>\n",
              "    .colab-df-container {\n",
              "      display:flex;\n",
              "      gap: 12px;\n",
              "    }\n",
              "\n",
              "    .colab-df-convert {\n",
              "      background-color: #E8F0FE;\n",
              "      border: none;\n",
              "      border-radius: 50%;\n",
              "      cursor: pointer;\n",
              "      display: none;\n",
              "      fill: #1967D2;\n",
              "      height: 32px;\n",
              "      padding: 0 0 0 0;\n",
              "      width: 32px;\n",
              "    }\n",
              "\n",
              "    .colab-df-convert:hover {\n",
              "      background-color: #E2EBFA;\n",
              "      box-shadow: 0px 1px 2px rgba(60, 64, 67, 0.3), 0px 1px 3px 1px rgba(60, 64, 67, 0.15);\n",
              "      fill: #174EA6;\n",
              "    }\n",
              "\n",
              "    .colab-df-buttons div {\n",
              "      margin-bottom: 4px;\n",
              "    }\n",
              "\n",
              "    [theme=dark] .colab-df-convert {\n",
              "      background-color: #3B4455;\n",
              "      fill: #D2E3FC;\n",
              "    }\n",
              "\n",
              "    [theme=dark] .colab-df-convert:hover {\n",
              "      background-color: #434B5C;\n",
              "      box-shadow: 0px 1px 3px 1px rgba(0, 0, 0, 0.15);\n",
              "      filter: drop-shadow(0px 1px 2px rgba(0, 0, 0, 0.3));\n",
              "      fill: #FFFFFF;\n",
              "    }\n",
              "  </style>\n",
              "\n",
              "    <script>\n",
              "      const buttonEl =\n",
              "        document.querySelector('#df-c6023e47-c707-4f81-a94c-7530fc29b263 button.colab-df-convert');\n",
              "      buttonEl.style.display =\n",
              "        google.colab.kernel.accessAllowed ? 'block' : 'none';\n",
              "\n",
              "      async function convertToInteractive(key) {\n",
              "        const element = document.querySelector('#df-c6023e47-c707-4f81-a94c-7530fc29b263');\n",
              "        const dataTable =\n",
              "          await google.colab.kernel.invokeFunction('convertToInteractive',\n",
              "                                                    [key], {});\n",
              "        if (!dataTable) return;\n",
              "\n",
              "        const docLinkHtml = 'Like what you see? Visit the ' +\n",
              "          '<a target=\"_blank\" href=https://colab.research.google.com/notebooks/data_table.ipynb>data table notebook</a>'\n",
              "          + ' to learn more about interactive tables.';\n",
              "        element.innerHTML = '';\n",
              "        dataTable['output_type'] = 'display_data';\n",
              "        await google.colab.output.renderOutput(dataTable, element);\n",
              "        const docLink = document.createElement('div');\n",
              "        docLink.innerHTML = docLinkHtml;\n",
              "        element.appendChild(docLink);\n",
              "      }\n",
              "    </script>\n",
              "  </div>\n",
              "\n",
              "\n",
              "<div id=\"df-588325c5-09e5-4c95-a41d-164f4a933151\">\n",
              "  <button class=\"colab-df-quickchart\" onclick=\"quickchart('df-588325c5-09e5-4c95-a41d-164f4a933151')\"\n",
              "            title=\"Suggest charts\"\n",
              "            style=\"display:none;\">\n",
              "\n",
              "<svg xmlns=\"http://www.w3.org/2000/svg\" height=\"24px\"viewBox=\"0 0 24 24\"\n",
              "     width=\"24px\">\n",
              "    <g>\n",
              "        <path d=\"M19 3H5c-1.1 0-2 .9-2 2v14c0 1.1.9 2 2 2h14c1.1 0 2-.9 2-2V5c0-1.1-.9-2-2-2zM9 17H7v-7h2v7zm4 0h-2V7h2v10zm4 0h-2v-4h2v4z\"/>\n",
              "    </g>\n",
              "</svg>\n",
              "  </button>\n",
              "\n",
              "<style>\n",
              "  .colab-df-quickchart {\n",
              "      --bg-color: #E8F0FE;\n",
              "      --fill-color: #1967D2;\n",
              "      --hover-bg-color: #E2EBFA;\n",
              "      --hover-fill-color: #174EA6;\n",
              "      --disabled-fill-color: #AAA;\n",
              "      --disabled-bg-color: #DDD;\n",
              "  }\n",
              "\n",
              "  [theme=dark] .colab-df-quickchart {\n",
              "      --bg-color: #3B4455;\n",
              "      --fill-color: #D2E3FC;\n",
              "      --hover-bg-color: #434B5C;\n",
              "      --hover-fill-color: #FFFFFF;\n",
              "      --disabled-bg-color: #3B4455;\n",
              "      --disabled-fill-color: #666;\n",
              "  }\n",
              "\n",
              "  .colab-df-quickchart {\n",
              "    background-color: var(--bg-color);\n",
              "    border: none;\n",
              "    border-radius: 50%;\n",
              "    cursor: pointer;\n",
              "    display: none;\n",
              "    fill: var(--fill-color);\n",
              "    height: 32px;\n",
              "    padding: 0;\n",
              "    width: 32px;\n",
              "  }\n",
              "\n",
              "  .colab-df-quickchart:hover {\n",
              "    background-color: var(--hover-bg-color);\n",
              "    box-shadow: 0 1px 2px rgba(60, 64, 67, 0.3), 0 1px 3px 1px rgba(60, 64, 67, 0.15);\n",
              "    fill: var(--button-hover-fill-color);\n",
              "  }\n",
              "\n",
              "  .colab-df-quickchart-complete:disabled,\n",
              "  .colab-df-quickchart-complete:disabled:hover {\n",
              "    background-color: var(--disabled-bg-color);\n",
              "    fill: var(--disabled-fill-color);\n",
              "    box-shadow: none;\n",
              "  }\n",
              "\n",
              "  .colab-df-spinner {\n",
              "    border: 2px solid var(--fill-color);\n",
              "    border-color: transparent;\n",
              "    border-bottom-color: var(--fill-color);\n",
              "    animation:\n",
              "      spin 1s steps(1) infinite;\n",
              "  }\n",
              "\n",
              "  @keyframes spin {\n",
              "    0% {\n",
              "      border-color: transparent;\n",
              "      border-bottom-color: var(--fill-color);\n",
              "      border-left-color: var(--fill-color);\n",
              "    }\n",
              "    20% {\n",
              "      border-color: transparent;\n",
              "      border-left-color: var(--fill-color);\n",
              "      border-top-color: var(--fill-color);\n",
              "    }\n",
              "    30% {\n",
              "      border-color: transparent;\n",
              "      border-left-color: var(--fill-color);\n",
              "      border-top-color: var(--fill-color);\n",
              "      border-right-color: var(--fill-color);\n",
              "    }\n",
              "    40% {\n",
              "      border-color: transparent;\n",
              "      border-right-color: var(--fill-color);\n",
              "      border-top-color: var(--fill-color);\n",
              "    }\n",
              "    60% {\n",
              "      border-color: transparent;\n",
              "      border-right-color: var(--fill-color);\n",
              "    }\n",
              "    80% {\n",
              "      border-color: transparent;\n",
              "      border-right-color: var(--fill-color);\n",
              "      border-bottom-color: var(--fill-color);\n",
              "    }\n",
              "    90% {\n",
              "      border-color: transparent;\n",
              "      border-bottom-color: var(--fill-color);\n",
              "    }\n",
              "  }\n",
              "</style>\n",
              "\n",
              "  <script>\n",
              "    async function quickchart(key) {\n",
              "      const quickchartButtonEl =\n",
              "        document.querySelector('#' + key + ' button');\n",
              "      quickchartButtonEl.disabled = true;  // To prevent multiple clicks.\n",
              "      quickchartButtonEl.classList.add('colab-df-spinner');\n",
              "      try {\n",
              "        const charts = await google.colab.kernel.invokeFunction(\n",
              "            'suggestCharts', [key], {});\n",
              "      } catch (error) {\n",
              "        console.error('Error during call to suggestCharts:', error);\n",
              "      }\n",
              "      quickchartButtonEl.classList.remove('colab-df-spinner');\n",
              "      quickchartButtonEl.classList.add('colab-df-quickchart-complete');\n",
              "    }\n",
              "    (() => {\n",
              "      let quickchartButtonEl =\n",
              "        document.querySelector('#df-588325c5-09e5-4c95-a41d-164f4a933151 button');\n",
              "      quickchartButtonEl.style.display =\n",
              "        google.colab.kernel.accessAllowed ? 'block' : 'none';\n",
              "    })();\n",
              "  </script>\n",
              "</div>\n",
              "\n",
              "    </div>\n",
              "  </div>\n"
            ]
          },
          "metadata": {},
          "execution_count": 117
        }
      ],
      "source": [
        "pd.DataFrame(w2v_similarity, columns = words, index = words)"
      ]
    },
    {
      "cell_type": "code",
      "execution_count": null,
      "metadata": {
        "id": "PzxgvGJeRyqj",
        "colab": {
          "base_uri": "https://localhost:8080/",
          "height": 496
        },
        "outputId": "a38b79d2-eb11-4a42-e053-9be88430e902"
      },
      "outputs": [
        {
          "output_type": "execute_result",
          "data": {
            "text/plain": [
              "<Axes: >"
            ]
          },
          "metadata": {},
          "execution_count": 118
        },
        {
          "output_type": "display_data",
          "data": {
            "text/plain": [
              "<Figure size 640x480 with 2 Axes>"
            ],
            "image/png": "[encoded data removed]"
          },
          "metadata": {}
        }
      ],
      "source": [
        "sns.heatmap(pd.DataFrame(w2v_similarity, columns = words, index = words))"
      ]
    },
    {
      "cell_type": "markdown",
      "metadata": {
        "id": "TL1Ahv0DQqsx"
      },
      "source": [
        "The size of the words embedding are reduced to to 2D and displayed as a scatterplot for analysis"
      ]
    },
    {
      "cell_type": "code",
      "execution_count": null,
      "metadata": {
        "id": "n1kX7EAQSOyq"
      },
      "outputs": [],
      "source": [
        "#PCA on word2vec embedding\n",
        "pca = PCA(n_components=2)\n",
        "word2vec_array = np.array(list(word2vec.values()))\n",
        "reduced_w2v = pca.fit_transform(word2vec_array)"
      ]
    },
    {
      "cell_type": "code",
      "execution_count": null,
      "metadata": {
        "id": "J7C-6bXeSSxi",
        "colab": {
          "base_uri": "https://localhost:8080/",
          "height": 445
        },
        "outputId": "17d52b85-bc25-4b41-b0f7-8f9f5fb9eda1"
      },
      "outputs": [
        {
          "output_type": "display_data",
          "data": {
            "text/plain": [
              "<Figure size 800x500 with 1 Axes>"
            ],
            "image/png": "[encoded data removed]"
          },
          "metadata": {}
        }
      ],
      "source": [
        "#plotting reduced order embeddings in a 2-D space\n",
        "\n",
        "plt.figure(figsize=(8,5))\n",
        "plt.scatter(reduced_w2v[:,0],reduced_w2v[:,1], s = 12, color = 'red')\n",
        "plt.xlim([-2.5,2.5])\n",
        "plt.ylim([-2.5,2.5])\n",
        "x, y = reduced_w2v[:,0] , reduced_w2v[:,1]\n",
        "for i in range(len(x)):\n",
        "    plt.annotate(words[i],xy=(x[i], y[i]),xytext=(x[i]+0.05,y[i]+0.05))"
      ]
    },
    {
      "cell_type": "code",
      "execution_count": null,
      "metadata": {
        "id": "O81OEqidSYyc",
        "colab": {
          "base_uri": "https://localhost:8080/"
        },
        "outputId": "867efe65-5699-467d-e005-1f6cde146222"
      },
      "outputs": [
        {
          "output_type": "execute_result",
          "data": {
            "text/plain": [
              "[('indian', 0.6967039704322815),\n",
              " ('usa', 0.6836211085319519),\n",
              " ('pakistan', 0.681516706943512),\n",
              " ('chennai', 0.6675503253936768),\n",
              " ('america', 0.6589399576187134),\n",
              " ('sri_lanka', 0.64982008934021),\n",
              " ('canada', 0.6490967869758606),\n",
              " ('australia', 0.6368584036827087),\n",
              " ('mexico', 0.6239137649536133),\n",
              " ('uk', 0.6221641898155212)]"
            ]
          },
          "metadata": {},
          "execution_count": 121
        }
      ],
      "source": [
        "model.most_similar('india')"
      ]
    },
    {
      "cell_type": "markdown",
      "metadata": {
        "id": "sxrpWYW_RgoT"
      },
      "source": [
        "Analogy test"
      ]
    },
    {
      "cell_type": "code",
      "execution_count": null,
      "metadata": {
        "id": "XPWJ836PSnGn"
      },
      "outputs": [],
      "source": [
        "def analogy(x1, x2, y1): #defining analogy function\n",
        "    result = model.most_similar(positive=[y1, x2], negative=[x1], topn = 5)\n",
        "    return result"
      ]
    },
    {
      "cell_type": "code",
      "execution_count": null,
      "metadata": {
        "id": "WG8rZoybZF2M",
        "colab": {
          "base_uri": "https://localhost:8080/"
        },
        "outputId": "32f191f0-8784-4ff4-c9ca-91ff3c5ed84d"
      },
      "outputs": [
        {
          "output_type": "execute_result",
          "data": {
            "text/plain": [
              "[('queen', 0.7118193507194519),\n",
              " ('monarch', 0.6189674139022827),\n",
              " ('princess', 0.5902431011199951),\n",
              " ('crown_prince', 0.5499460697174072),\n",
              " ('prince', 0.5377321839332581)]"
            ]
          },
          "metadata": {},
          "execution_count": 123
        }
      ],
      "source": [
        "analogy('man', 'king', 'woman')"
      ]
    },
    {
      "cell_type": "code",
      "execution_count": null,
      "metadata": {
        "id": "V15ouY7tSpzp",
        "colab": {
          "base_uri": "https://localhost:8080/"
        },
        "outputId": "9c78ec24-3620-4a98-ec17-33812d09560e"
      },
      "outputs": [
        {
          "output_type": "stream",
          "name": "stdout",
          "text": [
            "EVALUATION: Precision at 5 for the analogy test with Google skip-gram model is 0.0034\n"
          ]
        }
      ],
      "source": [
        "def analogy_score(analogy_dataset):\n",
        "\n",
        "    \"\"\"\n",
        "    The top5 analogous words calculated for each set of words for Google's\n",
        "    word2vec and compared with an existing dataset to calculate if the word\n",
        "    is in the first 5 predictions.\n",
        "\n",
        "    \"\"\"\n",
        "    correct = 0\n",
        "    total = 0\n",
        "\n",
        "    for a, b, c, d in analogy_dataset:\n",
        "        # Convert words to lowercase\n",
        "        a, b, c, d = a.lower(), b.lower(), c.lower(), d.lower()\n",
        "\n",
        "        words_scores = analogy(c, a, b)\n",
        "\n",
        "        predicted_words = [item[0] for item in words_scores]\n",
        "\n",
        "        if d in predicted_words:\n",
        "            correct += 1\n",
        "\n",
        "        total += 1\n",
        "\n",
        "    precision_at_5 = correct / total if total > 0 else 0\n",
        "    return precision_at_5\n",
        "\n",
        "precision_at_5_Google = analogy_score(sampled_analogy_dataset)\n",
        "print(\"EVALUATION: Precision at 5 for the analogy test with Google skip-gram model is\", precision_at_5_Google)"
      ]
    },
    {
      "cell_type": "code",
      "execution_count": null,
      "metadata": {
        "id": "DiUwTQO0SsQ1",
        "colab": {
          "base_uri": "https://localhost:8080/",
          "height": 249
        },
        "outputId": "5d2d5b93-58ea-4c3f-f966-678689230849"
      },
      "outputs": [
        {
          "output_type": "error",
          "ename": "KeyboardInterrupt",
          "evalue": "",
          "traceback": [
            "\u001b[0;31m---------------------------------------------------------------------------\u001b[0m",
            "\u001b[0;31mKeyboardInterrupt\u001b[0m                         Traceback (most recent call last)",
            "\u001b[0;32m<ipython-input-125-dc6afa8aecd7>\u001b[0m in \u001b[0;36m<cell line: 1>\u001b[0;34m()\u001b[0m\n\u001b[0;32m----> 1\u001b[0;31m \u001b[0mprecision_at_5_Google\u001b[0m \u001b[0;34m=\u001b[0m \u001b[0manalogy_score\u001b[0m\u001b[0;34m(\u001b[0m\u001b[0msampled_analogy_dataset\u001b[0m\u001b[0;34m)\u001b[0m\u001b[0;34m\u001b[0m\u001b[0;34m\u001b[0m\u001b[0m\n\u001b[0m\u001b[1;32m      2\u001b[0m \u001b[0mprint\u001b[0m\u001b[0;34m(\u001b[0m\u001b[0;34m\"EVALUATION: Precision at 5 for the analogy test with Google skip-gram model is\"\u001b[0m\u001b[0;34m,\u001b[0m \u001b[0mprecision_at_5_Google\u001b[0m\u001b[0;34m)\u001b[0m\u001b[0;34m\u001b[0m\u001b[0;34m\u001b[0m\u001b[0m\n",
            "\u001b[0;32m<ipython-input-124-c049a1bf8e3f>\u001b[0m in \u001b[0;36manalogy_score\u001b[0;34m(analogy_dataset)\u001b[0m\n\u001b[1;32m     14\u001b[0m         \u001b[0ma\u001b[0m\u001b[0;34m,\u001b[0m \u001b[0mb\u001b[0m\u001b[0;34m,\u001b[0m \u001b[0mc\u001b[0m\u001b[0;34m,\u001b[0m \u001b[0md\u001b[0m \u001b[0;34m=\u001b[0m \u001b[0ma\u001b[0m\u001b[0;34m.\u001b[0m\u001b[0mlower\u001b[0m\u001b[0;34m(\u001b[0m\u001b[0;34m)\u001b[0m\u001b[0;34m,\u001b[0m \u001b[0mb\u001b[0m\u001b[0;34m.\u001b[0m\u001b[0mlower\u001b[0m\u001b[0;34m(\u001b[0m\u001b[0;34m)\u001b[0m\u001b[0;34m,\u001b[0m \u001b[0mc\u001b[0m\u001b[0;34m.\u001b[0m\u001b[0mlower\u001b[0m\u001b[0;34m(\u001b[0m\u001b[0;34m)\u001b[0m\u001b[0;34m,\u001b[0m \u001b[0md\u001b[0m\u001b[0;34m.\u001b[0m\u001b[0mlower\u001b[0m\u001b[0;34m(\u001b[0m\u001b[0;34m)\u001b[0m\u001b[0;34m\u001b[0m\u001b[0;34m\u001b[0m\u001b[0m\n\u001b[1;32m     15\u001b[0m \u001b[0;34m\u001b[0m\u001b[0m\n\u001b[0;32m---> 16\u001b[0;31m         \u001b[0mwords_scores\u001b[0m \u001b[0;34m=\u001b[0m \u001b[0manalogy\u001b[0m\u001b[0;34m(\u001b[0m\u001b[0mc\u001b[0m\u001b[0;34m,\u001b[0m \u001b[0ma\u001b[0m\u001b[0;34m,\u001b[0m \u001b[0mb\u001b[0m\u001b[0;34m)\u001b[0m\u001b[0;34m\u001b[0m\u001b[0;34m\u001b[0m\u001b[0m\n\u001b[0m\u001b[1;32m     17\u001b[0m \u001b[0;34m\u001b[0m\u001b[0m\n\u001b[1;32m     18\u001b[0m         \u001b[0mpredicted_words\u001b[0m \u001b[0;34m=\u001b[0m \u001b[0;34m[\u001b[0m\u001b[0mitem\u001b[0m\u001b[0;34m[\u001b[0m\u001b[0;36m0\u001b[0m\u001b[0;34m]\u001b[0m \u001b[0;32mfor\u001b[0m \u001b[0mitem\u001b[0m \u001b[0;32min\u001b[0m \u001b[0mwords_scores\u001b[0m\u001b[0;34m]\u001b[0m\u001b[0;34m\u001b[0m\u001b[0;34m\u001b[0m\u001b[0m\n",
            "\u001b[0;32m<ipython-input-122-6cd915c9e937>\u001b[0m in \u001b[0;36manalogy\u001b[0;34m(x1, x2, y1)\u001b[0m\n\u001b[1;32m      1\u001b[0m \u001b[0;32mdef\u001b[0m \u001b[0manalogy\u001b[0m\u001b[0;34m(\u001b[0m\u001b[0mx1\u001b[0m\u001b[0;34m,\u001b[0m \u001b[0mx2\u001b[0m\u001b[0;34m,\u001b[0m \u001b[0my1\u001b[0m\u001b[0;34m)\u001b[0m\u001b[0;34m:\u001b[0m \u001b[0;31m#defining analogy function\u001b[0m\u001b[0;34m\u001b[0m\u001b[0;34m\u001b[0m\u001b[0m\n\u001b[0;32m----> 2\u001b[0;31m     \u001b[0mresult\u001b[0m \u001b[0;34m=\u001b[0m \u001b[0mmodel\u001b[0m\u001b[0;34m.\u001b[0m\u001b[0mmost_similar\u001b[0m\u001b[0;34m(\u001b[0m\u001b[0mpositive\u001b[0m\u001b[0;34m=\u001b[0m\u001b[0;34m[\u001b[0m\u001b[0my1\u001b[0m\u001b[0;34m,\u001b[0m \u001b[0mx2\u001b[0m\u001b[0;34m]\u001b[0m\u001b[0;34m,\u001b[0m \u001b[0mnegative\u001b[0m\u001b[0;34m=\u001b[0m\u001b[0;34m[\u001b[0m\u001b[0mx1\u001b[0m\u001b[0;34m]\u001b[0m\u001b[0;34m,\u001b[0m \u001b[0mtopn\u001b[0m \u001b[0;34m=\u001b[0m \u001b[0;36m5\u001b[0m\u001b[0;34m)\u001b[0m\u001b[0;34m\u001b[0m\u001b[0;34m\u001b[0m\u001b[0m\n\u001b[0m\u001b[1;32m      3\u001b[0m     \u001b[0;32mreturn\u001b[0m \u001b[0mresult\u001b[0m\u001b[0;34m\u001b[0m\u001b[0;34m\u001b[0m\u001b[0m\n",
            "\u001b[0;32m/usr/local/lib/python3.10/dist-packages/gensim/models/keyedvectors.py\u001b[0m in \u001b[0;36mmost_similar\u001b[0;34m(self, positive, negative, topn, clip_start, clip_end, restrict_vocab, indexer)\u001b[0m\n\u001b[1;32m    847\u001b[0m             \u001b[0;32mreturn\u001b[0m \u001b[0mindexer\u001b[0m\u001b[0;34m.\u001b[0m\u001b[0mmost_similar\u001b[0m\u001b[0;34m(\u001b[0m\u001b[0mmean\u001b[0m\u001b[0;34m,\u001b[0m \u001b[0mtopn\u001b[0m\u001b[0;34m)\u001b[0m\u001b[0;34m\u001b[0m\u001b[0;34m\u001b[0m\u001b[0m\n\u001b[1;32m    848\u001b[0m \u001b[0;34m\u001b[0m\u001b[0m\n\u001b[0;32m--> 849\u001b[0;31m         \u001b[0mdists\u001b[0m \u001b[0;34m=\u001b[0m \u001b[0mdot\u001b[0m\u001b[0;34m(\u001b[0m\u001b[0mself\u001b[0m\u001b[0;34m.\u001b[0m\u001b[0mvectors\u001b[0m\u001b[0;34m[\u001b[0m\u001b[0mclip_start\u001b[0m\u001b[0;34m:\u001b[0m\u001b[0mclip_end\u001b[0m\u001b[0;34m]\u001b[0m\u001b[0;34m,\u001b[0m \u001b[0mmean\u001b[0m\u001b[0;34m)\u001b[0m \u001b[0;34m/\u001b[0m \u001b[0mself\u001b[0m\u001b[0;34m.\u001b[0m\u001b[0mnorms\u001b[0m\u001b[0;34m[\u001b[0m\u001b[0mclip_start\u001b[0m\u001b[0;34m:\u001b[0m\u001b[0mclip_end\u001b[0m\u001b[0;34m]\u001b[0m\u001b[0;34m\u001b[0m\u001b[0;34m\u001b[0m\u001b[0m\n\u001b[0m\u001b[1;32m    850\u001b[0m         \u001b[0;32mif\u001b[0m \u001b[0;32mnot\u001b[0m \u001b[0mtopn\u001b[0m\u001b[0;34m:\u001b[0m\u001b[0;34m\u001b[0m\u001b[0;34m\u001b[0m\u001b[0m\n\u001b[1;32m    851\u001b[0m             \u001b[0;32mreturn\u001b[0m \u001b[0mdists\u001b[0m\u001b[0;34m\u001b[0m\u001b[0;34m\u001b[0m\u001b[0m\n",
            "\u001b[0;32m/usr/local/lib/python3.10/dist-packages/numpy/core/overrides.py\u001b[0m in \u001b[0;36mdot\u001b[0;34m(*args, **kwargs)\u001b[0m\n",
            "\u001b[0;31mKeyboardInterrupt\u001b[0m: "
          ]
        }
      ],
      "source": [
        "precision_at_5_Google = analogy_score(sampled_analogy_dataset)\n",
        "print(\"EVALUATION: Precision at 5 for the analogy test with Google skip-gram model is\", precision_at_5_Google)"
      ]
    },
    {
      "cell_type": "markdown",
      "metadata": {
        "id": "O0zdLI6uR2DH"
      },
      "source": [
        "### Submission Instructions\n",
        "\n",
        "Mentioned at the top of the notebook."
      ]
    }
  ],
  "metadata": {
    "accelerator": "GPU",
    "colab": {
      "provenance": [],
      "collapsed_sections": [
        "sxZ6Q_zJH9K7"
      ],
      "mount_file_id": "1hRzngzgyTOiVmW_KXDasa949p19SsltC",
      "authorship_tag": "ABX9TyMI64m+zVsGrGBs/HvrS7P0",
      "include_colab_link": true
    },
    "kernelspec": {
      "display_name": "Python 3",
      "name": "python3"
    },
    "language_info": {
      "name": "python"
    },
    "widgets": {
      "application/vnd.jupyter.widget-state+json": {
        "a52261af048543b0a30384b4c61e9a76": {
          "model_module": "@jupyter-widgets/controls",
          "model_name": "HBoxModel",
          "model_module_version": "1.5.0",
          "state": {
            "_dom_classes": [],
            "_model_module": "@jupyter-widgets/controls",
            "_model_module_version": "1.5.0",
            "_model_name": "HBoxModel",
            "_view_count": null,
            "_view_module": "@jupyter-widgets/controls",
            "_view_module_version": "1.5.0",
            "_view_name": "HBoxView",
            "box_style": "",
            "children": [
              "IPY_MODEL_4ab6a87cf5d842c4b149d062c622d566",
              "IPY_MODEL_30151c2cc5994d92a9153405e96f98f7",
              "IPY_MODEL_188c8a11f2fa4cee8b75593b697926e7"
            ],
            "layout": "IPY_MODEL_abf35d5e2723471887ac6a38a08fc0bd"
          }
        },
        "4ab6a87cf5d842c4b149d062c622d566": {
          "model_module": "@jupyter-widgets/controls",
          "model_name": "HTMLModel",
          "model_module_version": "1.5.0",
          "state": {
            "_dom_classes": [],
            "_model_module": "@jupyter-widgets/controls",
            "_model_module_version": "1.5.0",
            "_model_name": "HTMLModel",
            "_view_count": null,
            "_view_module": "@jupyter-widgets/controls",
            "_view_module_version": "1.5.0",
            "_view_name": "HTMLView",
            "description": "",
            "description_tooltip": null,
            "layout": "IPY_MODEL_9526f2e1120b436a824c2b0f9422b25e",
            "placeholder": "​",
            "style": "IPY_MODEL_e5af380e4151413c82c4834149bc2377",
            "value": "100%"
          }
        },
        "30151c2cc5994d92a9153405e96f98f7": {
          "model_module": "@jupyter-widgets/controls",
          "model_name": "FloatProgressModel",
          "model_module_version": "1.5.0",
          "state": {
            "_dom_classes": [],
            "_model_module": "@jupyter-widgets/controls",
            "_model_module_version": "1.5.0",
            "_model_name": "FloatProgressModel",
            "_view_count": null,
            "_view_module": "@jupyter-widgets/controls",
            "_view_module_version": "1.5.0",
            "_view_name": "ProgressView",
            "bar_style": "success",
            "description": "",
            "description_tooltip": null,
            "layout": "IPY_MODEL_00e35e994b5248b5a6b6e8f9c6dc7c87",
            "max": 3644258522,
            "min": 0,
            "orientation": "horizontal",
            "style": "IPY_MODEL_d34bd98952694e6ebed999a714de5d16",
            "value": 3644258522
          }
        },
        "188c8a11f2fa4cee8b75593b697926e7": {
          "model_module": "@jupyter-widgets/controls",
          "model_name": "HTMLModel",
          "model_module_version": "1.5.0",
          "state": {
            "_dom_classes": [],
            "_model_module": "@jupyter-widgets/controls",
            "_model_module_version": "1.5.0",
            "_model_name": "HTMLModel",
            "_view_count": null,
            "_view_module": "@jupyter-widgets/controls",
            "_view_module_version": "1.5.0",
            "_view_name": "HTMLView",
            "description": "",
            "description_tooltip": null,
            "layout": "IPY_MODEL_37076c236e2149ce976e874cad08f8f8",
            "placeholder": "​",
            "style": "IPY_MODEL_093ec71be50446ff9d6fefcb952d758f",
            "value": " 3.39G/3.39G [00:53&lt;00:00, 124MB/s]"
          }
        },
        "abf35d5e2723471887ac6a38a08fc0bd": {
          "model_module": "@jupyter-widgets/base",
          "model_name": "LayoutModel",
          "model_module_version": "1.2.0",
          "state": {
            "_model_module": "@jupyter-widgets/base",
            "_model_module_version": "1.2.0",
            "_model_name": "LayoutModel",
            "_view_count": null,
            "_view_module": "@jupyter-widgets/base",
            "_view_module_version": "1.2.0",
            "_view_name": "LayoutView",
            "align_content": null,
            "align_items": null,
            "align_self": null,
            "border": null,
            "bottom": null,
            "display": null,
            "flex": null,
            "flex_flow": null,
            "grid_area": null,
            "grid_auto_columns": null,
            "grid_auto_flow": null,
            "grid_auto_rows": null,
            "grid_column": null,
            "grid_gap": null,
            "grid_row": null,
            "grid_template_areas": null,
            "grid_template_columns": null,
            "grid_template_rows": null,
            "height": null,
            "justify_content": null,
            "justify_items": null,
            "left": null,
            "margin": null,
            "max_height": null,
            "max_width": null,
            "min_height": null,
            "min_width": null,
            "object_fit": null,
            "object_position": null,
            "order": null,
            "overflow": null,
            "overflow_x": null,
            "overflow_y": null,
            "padding": null,
            "right": null,
            "top": null,
            "visibility": null,
            "width": null
          }
        },
        "9526f2e1120b436a824c2b0f9422b25e": {
          "model_module": "@jupyter-widgets/base",
          "model_name": "LayoutModel",
          "model_module_version": "1.2.0",
          "state": {
            "_model_module": "@jupyter-widgets/base",
            "_model_module_version": "1.2.0",
            "_model_name": "LayoutModel",
            "_view_count": null,
            "_view_module": "@jupyter-widgets/base",
            "_view_module_version": "1.2.0",
            "_view_name": "LayoutView",
            "align_content": null,
            "align_items": null,
            "align_self": null,
            "border": null,
            "bottom": null,
            "display": null,
            "flex": null,
            "flex_flow": null,
            "grid_area": null,
            "grid_auto_columns": null,
            "grid_auto_flow": null,
            "grid_auto_rows": null,
            "grid_column": null,
            "grid_gap": null,
            "grid_row": null,
            "grid_template_areas": null,
            "grid_template_columns": null,
            "grid_template_rows": null,
            "height": null,
            "justify_content": null,
            "justify_items": null,
            "left": null,
            "margin": null,
            "max_height": null,
            "max_width": null,
            "min_height": null,
            "min_width": null,
            "object_fit": null,
            "object_position": null,
            "order": null,
            "overflow": null,
            "overflow_x": null,
            "overflow_y": null,
            "padding": null,
            "right": null,
            "top": null,
            "visibility": null,
            "width": null
          }
        },
        "e5af380e4151413c82c4834149bc2377": {
          "model_module": "@jupyter-widgets/controls",
          "model_name": "DescriptionStyleModel",
          "model_module_version": "1.5.0",
          "state": {
            "_model_module": "@jupyter-widgets/controls",
            "_model_module_version": "1.5.0",
            "_model_name": "DescriptionStyleModel",
            "_view_count": null,
            "_view_module": "@jupyter-widgets/base",
            "_view_module_version": "1.2.0",
            "_view_name": "StyleView",
            "description_width": ""
          }
        },
        "00e35e994b5248b5a6b6e8f9c6dc7c87": {
          "model_module": "@jupyter-widgets/base",
          "model_name": "LayoutModel",
          "model_module_version": "1.2.0",
          "state": {
            "_model_module": "@jupyter-widgets/base",
            "_model_module_version": "1.2.0",
            "_model_name": "LayoutModel",
            "_view_count": null,
            "_view_module": "@jupyter-widgets/base",
            "_view_module_version": "1.2.0",
            "_view_name": "LayoutView",
            "align_content": null,
            "align_items": null,
            "align_self": null,
            "border": null,
            "bottom": null,
            "display": null,
            "flex": null,
            "flex_flow": null,
            "grid_area": null,
            "grid_auto_columns": null,
            "grid_auto_flow": null,
            "grid_auto_rows": null,
            "grid_column": null,
            "grid_gap": null,
            "grid_row": null,
            "grid_template_areas": null,
            "grid_template_columns": null,
            "grid_template_rows": null,
            "height": null,
            "justify_content": null,
            "justify_items": null,
            "left": null,
            "margin": null,
            "max_height": null,
            "max_width": null,
            "min_height": null,
            "min_width": null,
            "object_fit": null,
            "object_position": null,
            "order": null,
            "overflow": null,
            "overflow_x": null,
            "overflow_y": null,
            "padding": null,
            "right": null,
            "top": null,
            "visibility": null,
            "width": null
          }
        },
        "d34bd98952694e6ebed999a714de5d16": {
          "model_module": "@jupyter-widgets/controls",
          "model_name": "ProgressStyleModel",
          "model_module_version": "1.5.0",
          "state": {
            "_model_module": "@jupyter-widgets/controls",
            "_model_module_version": "1.5.0",
            "_model_name": "ProgressStyleModel",
            "_view_count": null,
            "_view_module": "@jupyter-widgets/base",
            "_view_module_version": "1.2.0",
            "_view_name": "StyleView",
            "bar_color": null,
            "description_width": ""
          }
        },
        "37076c236e2149ce976e874cad08f8f8": {
          "model_module": "@jupyter-widgets/base",
          "model_name": "LayoutModel",
          "model_module_version": "1.2.0",
          "state": {
            "_model_module": "@jupyter-widgets/base",
            "_model_module_version": "1.2.0",
            "_model_name": "LayoutModel",
            "_view_count": null,
            "_view_module": "@jupyter-widgets/base",
            "_view_module_version": "1.2.0",
            "_view_name": "LayoutView",
            "align_content": null,
            "align_items": null,
            "align_self": null,
            "border": null,
            "bottom": null,
            "display": null,
            "flex": null,
            "flex_flow": null,
            "grid_area": null,
            "grid_auto_columns": null,
            "grid_auto_flow": null,
            "grid_auto_rows": null,
            "grid_column": null,
            "grid_gap": null,
            "grid_row": null,
            "grid_template_areas": null,
            "grid_template_columns": null,
            "grid_template_rows": null,
            "height": null,
            "justify_content": null,
            "justify_items": null,
            "left": null,
            "margin": null,
            "max_height": null,
            "max_width": null,
            "min_height": null,
            "min_width": null,
            "object_fit": null,
            "object_position": null,
            "order": null,
            "overflow": null,
            "overflow_x": null,
            "overflow_y": null,
            "padding": null,
            "right": null,
            "top": null,
            "visibility": null,
            "width": null
          }
        },
        "093ec71be50446ff9d6fefcb952d758f": {
          "model_module": "@jupyter-widgets/controls",
          "model_name": "DescriptionStyleModel",
          "model_module_version": "1.5.0",
          "state": {
            "_model_module": "@jupyter-widgets/controls",
            "_model_module_version": "1.5.0",
            "_model_name": "DescriptionStyleModel",
            "_view_count": null,
            "_view_module": "@jupyter-widgets/base",
            "_view_module_version": "1.2.0",
            "_view_name": "StyleView",
            "description_width": ""
          }
        }
      }
    }
  },
  "nbformat": 4,
  "nbformat_minor": 0
}